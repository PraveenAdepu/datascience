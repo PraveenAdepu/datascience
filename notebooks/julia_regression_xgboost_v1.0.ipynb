{
 "cells": [
  {
   "cell_type": "code",
   "execution_count": 1,
   "metadata": {},
   "outputs": [
    {
     "data": {
      "text/plain": [
       "\"import Pkg;\\nPkg.add(\\\"DataFrames\\\")\\nPkg.add(\\\"BenchmarkTools\\\")\\nPkg.add(\\\"MLDataUtils\\\")\\nPkg.add(\\\"XGBoost\\\")\\nPkg.add(\\\"Dates\\\")\\nPkg.add(\\\"TableReader\\\")\\n\""
      ]
     },
     "execution_count": 1,
     "metadata": {},
     "output_type": "execute_result"
    }
   ],
   "source": [
    "\"\"\"\n",
    "    Enable this to add packages if not previously added\n",
    "\"\"\"\n",
    "\n",
    "\"\"\"\n",
    "import Pkg;\n",
    "Pkg.add(\"DataFrames\")\n",
    "Pkg.add(\"BenchmarkTools\")\n",
    "Pkg.add(\"MLDataUtils\")\n",
    "Pkg.add(\"XGBoost\")\n",
    "Pkg.add(\"Dates\")\n",
    "Pkg.add(\"TableReader\")\n",
    "\"\"\""
   ]
  },
  {
   "cell_type": "code",
   "execution_count": 2,
   "metadata": {},
   "outputs": [
    {
     "data": {
      "text/plain": [
       "\"    Loading required packages\\n\""
      ]
     },
     "execution_count": 2,
     "metadata": {},
     "output_type": "execute_result"
    }
   ],
   "source": [
    "\"\"\"\n",
    "    Loading required packages\n",
    "\"\"\""
   ]
  },
  {
   "cell_type": "code",
   "execution_count": 3,
   "metadata": {},
   "outputs": [],
   "source": [
    "using TableReader\n",
    "using XGBoost\n",
    "using Dates\n",
    "using MLDataUtils: splitobs"
   ]
  },
  {
   "cell_type": "code",
   "execution_count": 4,
   "metadata": {},
   "outputs": [
    {
     "data": {
      "text/plain": [
       "\"    Logging start date time\\n\""
      ]
     },
     "execution_count": 4,
     "metadata": {},
     "output_type": "execute_result"
    }
   ],
   "source": [
    "\"\"\"\n",
    "    Logging start date time\n",
    "\"\"\""
   ]
  },
  {
   "cell_type": "code",
   "execution_count": 5,
   "metadata": {},
   "outputs": [
    {
     "data": {
      "text/plain": [
       "21:59:05.883"
      ]
     },
     "execution_count": 5,
     "metadata": {},
     "output_type": "execute_result"
    }
   ],
   "source": [
    "\n",
    "StartDateTime = Dates.Time(Dates.now())"
   ]
  },
  {
   "cell_type": "code",
   "execution_count": 6,
   "metadata": {},
   "outputs": [
    {
     "data": {
      "text/plain": [
       "\"    Read source files: train & test\\n    Get datasets from https://www.kaggle.com/c/santander-customer-transaction-prediction/data\\n\""
      ]
     },
     "execution_count": 6,
     "metadata": {},
     "output_type": "execute_result"
    }
   ],
   "source": [
    "\"\"\"\n",
    "    Read source files: train & test\n",
    "    Get datasets from https://www.kaggle.com/c/santander-customer-transaction-prediction/data\n",
    "\"\"\""
   ]
  },
  {
   "cell_type": "code",
   "execution_count": 7,
   "metadata": {},
   "outputs": [
    {
     "data": {
      "text/html": [
       "<table class=\"data-frame\"><thead><tr><th></th><th>ID_code</th><th>var_0</th><th>var_1</th><th>var_2</th><th>var_3</th><th>var_4</th><th>var_5</th><th>var_6</th><th>var_7</th></tr><tr><th></th><th>String</th><th>Float64</th><th>Float64</th><th>Float64</th><th>Float64</th><th>Float64</th><th>Float64</th><th>Float64</th><th>Float64</th></tr></thead><tbody><p>200,000 rows × 201 columns (omitted printing of 192 columns)</p><tr><th>1</th><td>test_0</td><td>11.0656</td><td>7.7798</td><td>12.9536</td><td>9.4292</td><td>11.4327</td><td>-2.3805</td><td>5.8493</td><td>18.2675</td></tr><tr><th>2</th><td>test_1</td><td>8.5304</td><td>1.2543</td><td>11.3047</td><td>5.1858</td><td>9.1974</td><td>-4.0117</td><td>6.0196</td><td>18.6316</td></tr><tr><th>3</th><td>test_2</td><td>5.4827</td><td>-10.3581</td><td>10.1407</td><td>7.0479</td><td>10.2628</td><td>9.8052</td><td>4.895</td><td>20.2537</td></tr><tr><th>4</th><td>test_3</td><td>8.5374</td><td>-1.3222</td><td>12.022</td><td>6.5749</td><td>8.8458</td><td>3.1744</td><td>4.9397</td><td>20.566</td></tr><tr><th>5</th><td>test_4</td><td>11.7058</td><td>-0.1327</td><td>14.1295</td><td>7.7506</td><td>9.1035</td><td>-8.5848</td><td>6.8595</td><td>10.6048</td></tr><tr><th>6</th><td>test_5</td><td>5.9862</td><td>-2.2913</td><td>8.6058</td><td>7.0685</td><td>14.2465</td><td>-8.6761</td><td>4.2467</td><td>14.7632</td></tr><tr><th>7</th><td>test_6</td><td>8.4624</td><td>-6.1065</td><td>7.3603</td><td>8.2627</td><td>12.0104</td><td>-7.2073</td><td>4.167</td><td>13.0809</td></tr><tr><th>8</th><td>test_7</td><td>17.3035</td><td>-2.4212</td><td>13.3989</td><td>8.3998</td><td>11.0777</td><td>9.6449</td><td>5.9596</td><td>17.8477</td></tr><tr><th>9</th><td>test_8</td><td>6.9856</td><td>0.8402</td><td>13.7161</td><td>4.7749</td><td>8.6784</td><td>-13.7607</td><td>4.3386</td><td>14.5843</td></tr><tr><th>10</th><td>test_9</td><td>10.3811</td><td>-6.9348</td><td>14.669</td><td>9.0941</td><td>11.9058</td><td>-10.8018</td><td>3.4508</td><td>20.2816</td></tr><tr><th>11</th><td>test_10</td><td>8.3431</td><td>-4.1427</td><td>9.1985</td><td>9.8229</td><td>11.2494</td><td>2.9678</td><td>5.5184</td><td>15.629</td></tr><tr><th>12</th><td>test_11</td><td>10.6137</td><td>-2.1898</td><td>8.909</td><td>3.8014</td><td>13.8602</td><td>-5.9802</td><td>5.5515</td><td>15.4716</td></tr><tr><th>13</th><td>test_12</td><td>12.7465</td><td>-4.9467</td><td>15.549</td><td>6.458</td><td>13.7572</td><td>-25.5371</td><td>4.4893</td><td>15.1682</td></tr><tr><th>14</th><td>test_13</td><td>11.7836</td><td>1.9979</td><td>10.3347</td><td>7.8857</td><td>13.102</td><td>5.0167</td><td>4.9548</td><td>23.6527</td></tr><tr><th>15</th><td>test_14</td><td>7.036</td><td>1.6797</td><td>9.3865</td><td>3.2605</td><td>10.7569</td><td>-8.0802</td><td>4.7885</td><td>15.0583</td></tr><tr><th>16</th><td>test_15</td><td>14.8595</td><td>-4.5378</td><td>13.6483</td><td>5.648</td><td>9.9144</td><td>1.519</td><td>5.0358</td><td>13.4524</td></tr><tr><th>17</th><td>test_16</td><td>14.1732</td><td>-5.149</td><td>9.7591</td><td>3.7316</td><td>10.37</td><td>-21.9202</td><td>7.713</td><td>18.8749</td></tr><tr><th>18</th><td>test_17</td><td>9.0936</td><td>-8.7414</td><td>17.116</td><td>6.0126</td><td>9.2144</td><td>-3.6761</td><td>4.6477</td><td>20.1053</td></tr><tr><th>19</th><td>test_18</td><td>15.7875</td><td>0.1671</td><td>10.7782</td><td>3.8521</td><td>9.119</td><td>11.0196</td><td>6.1113</td><td>18.4368</td></tr><tr><th>20</th><td>test_19</td><td>13.3874</td><td>1.0716</td><td>8.8767</td><td>7.8374</td><td>11.6404</td><td>6.2512</td><td>4.8837</td><td>18.2178</td></tr><tr><th>21</th><td>test_20</td><td>8.0259</td><td>-4.674</td><td>8.6431</td><td>2.2198</td><td>11.4555</td><td>-14.0227</td><td>6.9192</td><td>17.8559</td></tr><tr><th>22</th><td>test_21</td><td>14.3356</td><td>0.2317</td><td>9.5604</td><td>5.7603</td><td>10.3184</td><td>-6.4721</td><td>4.6898</td><td>13.7783</td></tr><tr><th>23</th><td>test_22</td><td>10.4255</td><td>-6.1758</td><td>12.4846</td><td>7.9845</td><td>9.7032</td><td>-14.5969</td><td>4.4173</td><td>19.3606</td></tr><tr><th>24</th><td>test_23</td><td>12.3322</td><td>-6.3835</td><td>7.2471</td><td>5.0403</td><td>10.0875</td><td>-1.5252</td><td>5.823</td><td>17.9494</td></tr><tr><th>25</th><td>test_24</td><td>14.1844</td><td>-9.1044</td><td>9.7453</td><td>9.2638</td><td>9.3302</td><td>2.6818</td><td>5.4711</td><td>18.5414</td></tr><tr><th>26</th><td>test_25</td><td>10.0029</td><td>0.253</td><td>7.5335</td><td>6.9343</td><td>11.6866</td><td>-6.5147</td><td>6.7327</td><td>19.8941</td></tr><tr><th>27</th><td>test_26</td><td>6.9056</td><td>-4.8626</td><td>11.8932</td><td>5.3693</td><td>11.2551</td><td>-18.9716</td><td>5.5991</td><td>18.9809</td></tr><tr><th>28</th><td>test_27</td><td>8.7562</td><td>-3.0647</td><td>11.799</td><td>9.2162</td><td>10.9847</td><td>-22.4902</td><td>4.2991</td><td>13.98</td></tr><tr><th>29</th><td>test_28</td><td>9.7243</td><td>-1.5151</td><td>11.5582</td><td>5.736</td><td>12.1907</td><td>6.9664</td><td>4.4125</td><td>17.477</td></tr><tr><th>30</th><td>test_29</td><td>13.243</td><td>1.2738</td><td>10.4245</td><td>3.1863</td><td>11.4951</td><td>-1.4755</td><td>5.1005</td><td>17.1687</td></tr><tr><th>&vellip;</th><td>&vellip;</td><td>&vellip;</td><td>&vellip;</td><td>&vellip;</td><td>&vellip;</td><td>&vellip;</td><td>&vellip;</td><td>&vellip;</td><td>&vellip;</td></tr></tbody></table>"
      ],
      "text/latex": [
       "\\begin{tabular}{r|cccccccccc}\n",
       "\t& ID\\_code & var\\_0 & var\\_1 & var\\_2 & var\\_3 & var\\_4 & var\\_5 & var\\_6 & var\\_7 & \\\\\n",
       "\t\\hline\n",
       "\t& String & Float64 & Float64 & Float64 & Float64 & Float64 & Float64 & Float64 & Float64 & \\\\\n",
       "\t\\hline\n",
       "\t1 & test\\_0 & 11.0656 & 7.7798 & 12.9536 & 9.4292 & 11.4327 & -2.3805 & 5.8493 & 18.2675 & $\\dots$ \\\\\n",
       "\t2 & test\\_1 & 8.5304 & 1.2543 & 11.3047 & 5.1858 & 9.1974 & -4.0117 & 6.0196 & 18.6316 & $\\dots$ \\\\\n",
       "\t3 & test\\_2 & 5.4827 & -10.3581 & 10.1407 & 7.0479 & 10.2628 & 9.8052 & 4.895 & 20.2537 & $\\dots$ \\\\\n",
       "\t4 & test\\_3 & 8.5374 & -1.3222 & 12.022 & 6.5749 & 8.8458 & 3.1744 & 4.9397 & 20.566 & $\\dots$ \\\\\n",
       "\t5 & test\\_4 & 11.7058 & -0.1327 & 14.1295 & 7.7506 & 9.1035 & -8.5848 & 6.8595 & 10.6048 & $\\dots$ \\\\\n",
       "\t6 & test\\_5 & 5.9862 & -2.2913 & 8.6058 & 7.0685 & 14.2465 & -8.6761 & 4.2467 & 14.7632 & $\\dots$ \\\\\n",
       "\t7 & test\\_6 & 8.4624 & -6.1065 & 7.3603 & 8.2627 & 12.0104 & -7.2073 & 4.167 & 13.0809 & $\\dots$ \\\\\n",
       "\t8 & test\\_7 & 17.3035 & -2.4212 & 13.3989 & 8.3998 & 11.0777 & 9.6449 & 5.9596 & 17.8477 & $\\dots$ \\\\\n",
       "\t9 & test\\_8 & 6.9856 & 0.8402 & 13.7161 & 4.7749 & 8.6784 & -13.7607 & 4.3386 & 14.5843 & $\\dots$ \\\\\n",
       "\t10 & test\\_9 & 10.3811 & -6.9348 & 14.669 & 9.0941 & 11.9058 & -10.8018 & 3.4508 & 20.2816 & $\\dots$ \\\\\n",
       "\t11 & test\\_10 & 8.3431 & -4.1427 & 9.1985 & 9.8229 & 11.2494 & 2.9678 & 5.5184 & 15.629 & $\\dots$ \\\\\n",
       "\t12 & test\\_11 & 10.6137 & -2.1898 & 8.909 & 3.8014 & 13.8602 & -5.9802 & 5.5515 & 15.4716 & $\\dots$ \\\\\n",
       "\t13 & test\\_12 & 12.7465 & -4.9467 & 15.549 & 6.458 & 13.7572 & -25.5371 & 4.4893 & 15.1682 & $\\dots$ \\\\\n",
       "\t14 & test\\_13 & 11.7836 & 1.9979 & 10.3347 & 7.8857 & 13.102 & 5.0167 & 4.9548 & 23.6527 & $\\dots$ \\\\\n",
       "\t15 & test\\_14 & 7.036 & 1.6797 & 9.3865 & 3.2605 & 10.7569 & -8.0802 & 4.7885 & 15.0583 & $\\dots$ \\\\\n",
       "\t16 & test\\_15 & 14.8595 & -4.5378 & 13.6483 & 5.648 & 9.9144 & 1.519 & 5.0358 & 13.4524 & $\\dots$ \\\\\n",
       "\t17 & test\\_16 & 14.1732 & -5.149 & 9.7591 & 3.7316 & 10.37 & -21.9202 & 7.713 & 18.8749 & $\\dots$ \\\\\n",
       "\t18 & test\\_17 & 9.0936 & -8.7414 & 17.116 & 6.0126 & 9.2144 & -3.6761 & 4.6477 & 20.1053 & $\\dots$ \\\\\n",
       "\t19 & test\\_18 & 15.7875 & 0.1671 & 10.7782 & 3.8521 & 9.119 & 11.0196 & 6.1113 & 18.4368 & $\\dots$ \\\\\n",
       "\t20 & test\\_19 & 13.3874 & 1.0716 & 8.8767 & 7.8374 & 11.6404 & 6.2512 & 4.8837 & 18.2178 & $\\dots$ \\\\\n",
       "\t21 & test\\_20 & 8.0259 & -4.674 & 8.6431 & 2.2198 & 11.4555 & -14.0227 & 6.9192 & 17.8559 & $\\dots$ \\\\\n",
       "\t22 & test\\_21 & 14.3356 & 0.2317 & 9.5604 & 5.7603 & 10.3184 & -6.4721 & 4.6898 & 13.7783 & $\\dots$ \\\\\n",
       "\t23 & test\\_22 & 10.4255 & -6.1758 & 12.4846 & 7.9845 & 9.7032 & -14.5969 & 4.4173 & 19.3606 & $\\dots$ \\\\\n",
       "\t24 & test\\_23 & 12.3322 & -6.3835 & 7.2471 & 5.0403 & 10.0875 & -1.5252 & 5.823 & 17.9494 & $\\dots$ \\\\\n",
       "\t25 & test\\_24 & 14.1844 & -9.1044 & 9.7453 & 9.2638 & 9.3302 & 2.6818 & 5.4711 & 18.5414 & $\\dots$ \\\\\n",
       "\t26 & test\\_25 & 10.0029 & 0.253 & 7.5335 & 6.9343 & 11.6866 & -6.5147 & 6.7327 & 19.8941 & $\\dots$ \\\\\n",
       "\t27 & test\\_26 & 6.9056 & -4.8626 & 11.8932 & 5.3693 & 11.2551 & -18.9716 & 5.5991 & 18.9809 & $\\dots$ \\\\\n",
       "\t28 & test\\_27 & 8.7562 & -3.0647 & 11.799 & 9.2162 & 10.9847 & -22.4902 & 4.2991 & 13.98 & $\\dots$ \\\\\n",
       "\t29 & test\\_28 & 9.7243 & -1.5151 & 11.5582 & 5.736 & 12.1907 & 6.9664 & 4.4125 & 17.477 & $\\dots$ \\\\\n",
       "\t30 & test\\_29 & 13.243 & 1.2738 & 10.4245 & 3.1863 & 11.4951 & -1.4755 & 5.1005 & 17.1687 & $\\dots$ \\\\\n",
       "\t$\\dots$ & $\\dots$ & $\\dots$ & $\\dots$ & $\\dots$ & $\\dots$ & $\\dots$ & $\\dots$ & $\\dots$ & $\\dots$ &  \\\\\n",
       "\\end{tabular}\n"
      ],
      "text/plain": [
       "200000×201 DataFrames.DataFrame. Omitted printing of 195 columns\n",
       "│ Row    │ ID_code     │ var_0   │ var_1    │ var_2   │ var_3   │ var_4   │\n",
       "│        │ \u001b[90mString\u001b[39m      │ \u001b[90mFloat64\u001b[39m │ \u001b[90mFloat64\u001b[39m  │ \u001b[90mFloat64\u001b[39m │ \u001b[90mFloat64\u001b[39m │ \u001b[90mFloat64\u001b[39m │\n",
       "├────────┼─────────────┼─────────┼──────────┼─────────┼─────────┼─────────┤\n",
       "│ 1      │ test_0      │ 11.0656 │ 7.7798   │ 12.9536 │ 9.4292  │ 11.4327 │\n",
       "│ 2      │ test_1      │ 8.5304  │ 1.2543   │ 11.3047 │ 5.1858  │ 9.1974  │\n",
       "│ 3      │ test_2      │ 5.4827  │ -10.3581 │ 10.1407 │ 7.0479  │ 10.2628 │\n",
       "│ 4      │ test_3      │ 8.5374  │ -1.3222  │ 12.022  │ 6.5749  │ 8.8458  │\n",
       "│ 5      │ test_4      │ 11.7058 │ -0.1327  │ 14.1295 │ 7.7506  │ 9.1035  │\n",
       "│ 6      │ test_5      │ 5.9862  │ -2.2913  │ 8.6058  │ 7.0685  │ 14.2465 │\n",
       "│ 7      │ test_6      │ 8.4624  │ -6.1065  │ 7.3603  │ 8.2627  │ 12.0104 │\n",
       "│ 8      │ test_7      │ 17.3035 │ -2.4212  │ 13.3989 │ 8.3998  │ 11.0777 │\n",
       "│ 9      │ test_8      │ 6.9856  │ 0.8402   │ 13.7161 │ 4.7749  │ 8.6784  │\n",
       "│ 10     │ test_9      │ 10.3811 │ -6.9348  │ 14.669  │ 9.0941  │ 11.9058 │\n",
       "⋮\n",
       "│ 199990 │ test_199989 │ 9.0436  │ -3.0491  │ 10.8737 │ 7.8789  │ 11.0275 │\n",
       "│ 199991 │ test_199990 │ 5.5416  │ 1.734    │ 9.6938  │ 5.0126  │ 11.3049 │\n",
       "│ 199992 │ test_199991 │ 8.7935  │ -4.0646  │ 9.948   │ 8.6947  │ 11.0497 │\n",
       "│ 199993 │ test_199992 │ 16.4229 │ -5.0254  │ 13.1385 │ 5.4599  │ 13.1347 │\n",
       "│ 199994 │ test_199993 │ 14.6764 │ -8.1066  │ 7.1167  │ 2.4138  │ 10.3845 │\n",
       "│ 199995 │ test_199994 │ 8.2964  │ -2.3119  │ 11.2139 │ 9.1357  │ 8.5339  │\n",
       "│ 199996 │ test_199995 │ 13.1678 │ 1.0136   │ 10.4333 │ 6.7997  │ 8.5974  │\n",
       "│ 199997 │ test_199996 │ 9.7171  │ -9.1462  │ 7.3443  │ 9.1421  │ 12.8936 │\n",
       "│ 199998 │ test_199997 │ 11.636  │ 2.2769   │ 11.2074 │ 7.7649  │ 12.6796 │\n",
       "│ 199999 │ test_199998 │ 13.5745 │ -0.5134  │ 13.6584 │ 7.4855  │ 11.2241 │\n",
       "│ 200000 │ test_199999 │ 10.4664 │ 1.807    │ 10.2277 │ 6.0654  │ 10.0258 │"
      ]
     },
     "execution_count": 7,
     "metadata": {},
     "output_type": "execute_result"
    }
   ],
   "source": [
    "train = readcsv(\"train.csv\")\n",
    "test = readcsv(\"test.csv\")"
   ]
  },
  {
   "cell_type": "code",
   "execution_count": 8,
   "metadata": {},
   "outputs": [
    {
     "data": {
      "text/plain": [
       "\"    check the size of train\\n\""
      ]
     },
     "execution_count": 8,
     "metadata": {},
     "output_type": "execute_result"
    }
   ],
   "source": [
    "\"\"\"\n",
    "    check the size of train\n",
    "\"\"\""
   ]
  },
  {
   "cell_type": "code",
   "execution_count": 9,
   "metadata": {},
   "outputs": [
    {
     "data": {
      "text/plain": [
       "(200000, 202)"
      ]
     },
     "execution_count": 9,
     "metadata": {},
     "output_type": "execute_result"
    }
   ],
   "source": [
    "size(train)"
   ]
  },
  {
   "cell_type": "code",
   "execution_count": 10,
   "metadata": {},
   "outputs": [
    {
     "data": {
      "text/plain": [
       "\"    check the size of test\\n\""
      ]
     },
     "execution_count": 10,
     "metadata": {},
     "output_type": "execute_result"
    }
   ],
   "source": [
    "\"\"\"\n",
    "    check the size of test\n",
    "\"\"\""
   ]
  },
  {
   "cell_type": "code",
   "execution_count": 11,
   "metadata": {},
   "outputs": [
    {
     "data": {
      "text/plain": [
       "(200000, 201)"
      ]
     },
     "execution_count": 11,
     "metadata": {},
     "output_type": "execute_result"
    }
   ],
   "source": [
    "size(test)"
   ]
  },
  {
   "cell_type": "code",
   "execution_count": 12,
   "metadata": {},
   "outputs": [
    {
     "data": {
      "text/plain": [
       "\"    check names of train\\n\""
      ]
     },
     "execution_count": 12,
     "metadata": {},
     "output_type": "execute_result"
    }
   ],
   "source": [
    "\"\"\"\n",
    "    check names of train\n",
    "\"\"\""
   ]
  },
  {
   "cell_type": "code",
   "execution_count": 13,
   "metadata": {},
   "outputs": [
    {
     "data": {
      "text/plain": [
       "202-element Array{Symbol,1}:\n",
       " :ID_code\n",
       " :target \n",
       " :var_0  \n",
       " :var_1  \n",
       " :var_2  \n",
       " :var_3  \n",
       " :var_4  \n",
       " :var_5  \n",
       " :var_6  \n",
       " :var_7  \n",
       " :var_8  \n",
       " :var_9  \n",
       " :var_10 \n",
       " ⋮       \n",
       " :var_188\n",
       " :var_189\n",
       " :var_190\n",
       " :var_191\n",
       " :var_192\n",
       " :var_193\n",
       " :var_194\n",
       " :var_195\n",
       " :var_196\n",
       " :var_197\n",
       " :var_198\n",
       " :var_199"
      ]
     },
     "execution_count": 13,
     "metadata": {},
     "output_type": "execute_result"
    }
   ],
   "source": [
    "names(train)"
   ]
  },
  {
   "cell_type": "code",
   "execution_count": 14,
   "metadata": {},
   "outputs": [
    {
     "data": {
      "text/plain": [
       "\"    ID_code - Id column, no meaning\\n    target - target variable for modeling\\n\""
      ]
     },
     "execution_count": 14,
     "metadata": {},
     "output_type": "execute_result"
    }
   ],
   "source": [
    "\"\"\"\n",
    "    ID_code - Id column, no meaning\n",
    "    target - target variable for modeling\n",
    "\"\"\""
   ]
  },
  {
   "cell_type": "code",
   "execution_count": 15,
   "metadata": {},
   "outputs": [
    {
     "name": "stderr",
     "output_type": "stream",
     "text": [
      "┌ Warning: `getindex(df::DataFrame, col_inds::Union{AbstractVector, Regex, Not})` is deprecated, use `df[:, col_inds]` instead.\n",
      "│   caller = top-level scope at In[15]:1\n",
      "└ @ Core In[15]:1\n",
      "┌ Warning: `getindex(df::DataFrame, col_inds::Union{AbstractVector, Regex, Not})` is deprecated, use `df[:, col_inds]` instead.\n",
      "│   caller = top-level scope at In[15]:3\n",
      "└ @ Core In[15]:3\n"
     ]
    },
    {
     "data": {
      "text/html": [
       "<table class=\"data-frame\"><thead><tr><th></th><th>var_0</th><th>var_1</th><th>var_2</th><th>var_3</th><th>var_4</th><th>var_5</th><th>var_6</th><th>var_7</th><th>var_8</th></tr><tr><th></th><th>Float64</th><th>Float64</th><th>Float64</th><th>Float64</th><th>Float64</th><th>Float64</th><th>Float64</th><th>Float64</th><th>Float64</th></tr></thead><tbody><p>200,000 rows × 200 columns (omitted printing of 191 columns)</p><tr><th>1</th><td>11.0656</td><td>7.7798</td><td>12.9536</td><td>9.4292</td><td>11.4327</td><td>-2.3805</td><td>5.8493</td><td>18.2675</td><td>2.1337</td></tr><tr><th>2</th><td>8.5304</td><td>1.2543</td><td>11.3047</td><td>5.1858</td><td>9.1974</td><td>-4.0117</td><td>6.0196</td><td>18.6316</td><td>-4.4131</td></tr><tr><th>3</th><td>5.4827</td><td>-10.3581</td><td>10.1407</td><td>7.0479</td><td>10.2628</td><td>9.8052</td><td>4.895</td><td>20.2537</td><td>1.5233</td></tr><tr><th>4</th><td>8.5374</td><td>-1.3222</td><td>12.022</td><td>6.5749</td><td>8.8458</td><td>3.1744</td><td>4.9397</td><td>20.566</td><td>3.3755</td></tr><tr><th>5</th><td>11.7058</td><td>-0.1327</td><td>14.1295</td><td>7.7506</td><td>9.1035</td><td>-8.5848</td><td>6.8595</td><td>10.6048</td><td>2.989</td></tr><tr><th>6</th><td>5.9862</td><td>-2.2913</td><td>8.6058</td><td>7.0685</td><td>14.2465</td><td>-8.6761</td><td>4.2467</td><td>14.7632</td><td>1.879</td></tr><tr><th>7</th><td>8.4624</td><td>-6.1065</td><td>7.3603</td><td>8.2627</td><td>12.0104</td><td>-7.2073</td><td>4.167</td><td>13.0809</td><td>-4.3004</td></tr><tr><th>8</th><td>17.3035</td><td>-2.4212</td><td>13.3989</td><td>8.3998</td><td>11.0777</td><td>9.6449</td><td>5.9596</td><td>17.8477</td><td>-4.8068</td></tr><tr><th>9</th><td>6.9856</td><td>0.8402</td><td>13.7161</td><td>4.7749</td><td>8.6784</td><td>-13.7607</td><td>4.3386</td><td>14.5843</td><td>2.5883</td></tr><tr><th>10</th><td>10.3811</td><td>-6.9348</td><td>14.669</td><td>9.0941</td><td>11.9058</td><td>-10.8018</td><td>3.4508</td><td>20.2816</td><td>-1.4112</td></tr><tr><th>11</th><td>8.3431</td><td>-4.1427</td><td>9.1985</td><td>9.8229</td><td>11.2494</td><td>2.9678</td><td>5.5184</td><td>15.629</td><td>2.8032</td></tr><tr><th>12</th><td>10.6137</td><td>-2.1898</td><td>8.909</td><td>3.8014</td><td>13.8602</td><td>-5.9802</td><td>5.5515</td><td>15.4716</td><td>-0.1714</td></tr><tr><th>13</th><td>12.7465</td><td>-4.9467</td><td>15.549</td><td>6.458</td><td>13.7572</td><td>-25.5371</td><td>4.4893</td><td>15.1682</td><td>3.1754</td></tr><tr><th>14</th><td>11.7836</td><td>1.9979</td><td>10.3347</td><td>7.8857</td><td>13.102</td><td>5.0167</td><td>4.9548</td><td>23.6527</td><td>3.5911</td></tr><tr><th>15</th><td>7.036</td><td>1.6797</td><td>9.3865</td><td>3.2605</td><td>10.7569</td><td>-8.0802</td><td>4.7885</td><td>15.0583</td><td>0.6459</td></tr><tr><th>16</th><td>14.8595</td><td>-4.5378</td><td>13.6483</td><td>5.648</td><td>9.9144</td><td>1.519</td><td>5.0358</td><td>13.4524</td><td>-2.5419</td></tr><tr><th>17</th><td>14.1732</td><td>-5.149</td><td>9.7591</td><td>3.7316</td><td>10.37</td><td>-21.9202</td><td>7.713</td><td>18.8749</td><td>0.468</td></tr><tr><th>18</th><td>9.0936</td><td>-8.7414</td><td>17.116</td><td>6.0126</td><td>9.2144</td><td>-3.6761</td><td>4.6477</td><td>20.1053</td><td>1.7687</td></tr><tr><th>19</th><td>15.7875</td><td>0.1671</td><td>10.7782</td><td>3.8521</td><td>9.119</td><td>11.0196</td><td>6.1113</td><td>18.4368</td><td>-1.0728</td></tr><tr><th>20</th><td>13.3874</td><td>1.0716</td><td>8.8767</td><td>7.8374</td><td>11.6404</td><td>6.2512</td><td>4.8837</td><td>18.2178</td><td>4.3871</td></tr><tr><th>21</th><td>8.0259</td><td>-4.674</td><td>8.6431</td><td>2.2198</td><td>11.4555</td><td>-14.0227</td><td>6.9192</td><td>17.8559</td><td>0.4283</td></tr><tr><th>22</th><td>14.3356</td><td>0.2317</td><td>9.5604</td><td>5.7603</td><td>10.3184</td><td>-6.4721</td><td>4.6898</td><td>13.7783</td><td>1.8342</td></tr><tr><th>23</th><td>10.4255</td><td>-6.1758</td><td>12.4846</td><td>7.9845</td><td>9.7032</td><td>-14.5969</td><td>4.4173</td><td>19.3606</td><td>-0.5899</td></tr><tr><th>24</th><td>12.3322</td><td>-6.3835</td><td>7.2471</td><td>5.0403</td><td>10.0875</td><td>-1.5252</td><td>5.823</td><td>17.9494</td><td>-3.8454</td></tr><tr><th>25</th><td>14.1844</td><td>-9.1044</td><td>9.7453</td><td>9.2638</td><td>9.3302</td><td>2.6818</td><td>5.4711</td><td>18.5414</td><td>2.2065</td></tr><tr><th>26</th><td>10.0029</td><td>0.253</td><td>7.5335</td><td>6.9343</td><td>11.6866</td><td>-6.5147</td><td>6.7327</td><td>19.8941</td><td>-6.6497</td></tr><tr><th>27</th><td>6.9056</td><td>-4.8626</td><td>11.8932</td><td>5.3693</td><td>11.2551</td><td>-18.9716</td><td>5.5991</td><td>18.9809</td><td>5.5612</td></tr><tr><th>28</th><td>8.7562</td><td>-3.0647</td><td>11.799</td><td>9.2162</td><td>10.9847</td><td>-22.4902</td><td>4.2991</td><td>13.98</td><td>3.3233</td></tr><tr><th>29</th><td>9.7243</td><td>-1.5151</td><td>11.5582</td><td>5.736</td><td>12.1907</td><td>6.9664</td><td>4.4125</td><td>17.477</td><td>-3.9683</td></tr><tr><th>30</th><td>13.243</td><td>1.2738</td><td>10.4245</td><td>3.1863</td><td>11.4951</td><td>-1.4755</td><td>5.1005</td><td>17.1687</td><td>1.7115</td></tr><tr><th>&vellip;</th><td>&vellip;</td><td>&vellip;</td><td>&vellip;</td><td>&vellip;</td><td>&vellip;</td><td>&vellip;</td><td>&vellip;</td><td>&vellip;</td><td>&vellip;</td></tr></tbody></table>"
      ],
      "text/latex": [
       "\\begin{tabular}{r|cccccccccc}\n",
       "\t& var\\_0 & var\\_1 & var\\_2 & var\\_3 & var\\_4 & var\\_5 & var\\_6 & var\\_7 & var\\_8 & \\\\\n",
       "\t\\hline\n",
       "\t& Float64 & Float64 & Float64 & Float64 & Float64 & Float64 & Float64 & Float64 & Float64 & \\\\\n",
       "\t\\hline\n",
       "\t1 & 11.0656 & 7.7798 & 12.9536 & 9.4292 & 11.4327 & -2.3805 & 5.8493 & 18.2675 & 2.1337 & $\\dots$ \\\\\n",
       "\t2 & 8.5304 & 1.2543 & 11.3047 & 5.1858 & 9.1974 & -4.0117 & 6.0196 & 18.6316 & -4.4131 & $\\dots$ \\\\\n",
       "\t3 & 5.4827 & -10.3581 & 10.1407 & 7.0479 & 10.2628 & 9.8052 & 4.895 & 20.2537 & 1.5233 & $\\dots$ \\\\\n",
       "\t4 & 8.5374 & -1.3222 & 12.022 & 6.5749 & 8.8458 & 3.1744 & 4.9397 & 20.566 & 3.3755 & $\\dots$ \\\\\n",
       "\t5 & 11.7058 & -0.1327 & 14.1295 & 7.7506 & 9.1035 & -8.5848 & 6.8595 & 10.6048 & 2.989 & $\\dots$ \\\\\n",
       "\t6 & 5.9862 & -2.2913 & 8.6058 & 7.0685 & 14.2465 & -8.6761 & 4.2467 & 14.7632 & 1.879 & $\\dots$ \\\\\n",
       "\t7 & 8.4624 & -6.1065 & 7.3603 & 8.2627 & 12.0104 & -7.2073 & 4.167 & 13.0809 & -4.3004 & $\\dots$ \\\\\n",
       "\t8 & 17.3035 & -2.4212 & 13.3989 & 8.3998 & 11.0777 & 9.6449 & 5.9596 & 17.8477 & -4.8068 & $\\dots$ \\\\\n",
       "\t9 & 6.9856 & 0.8402 & 13.7161 & 4.7749 & 8.6784 & -13.7607 & 4.3386 & 14.5843 & 2.5883 & $\\dots$ \\\\\n",
       "\t10 & 10.3811 & -6.9348 & 14.669 & 9.0941 & 11.9058 & -10.8018 & 3.4508 & 20.2816 & -1.4112 & $\\dots$ \\\\\n",
       "\t11 & 8.3431 & -4.1427 & 9.1985 & 9.8229 & 11.2494 & 2.9678 & 5.5184 & 15.629 & 2.8032 & $\\dots$ \\\\\n",
       "\t12 & 10.6137 & -2.1898 & 8.909 & 3.8014 & 13.8602 & -5.9802 & 5.5515 & 15.4716 & -0.1714 & $\\dots$ \\\\\n",
       "\t13 & 12.7465 & -4.9467 & 15.549 & 6.458 & 13.7572 & -25.5371 & 4.4893 & 15.1682 & 3.1754 & $\\dots$ \\\\\n",
       "\t14 & 11.7836 & 1.9979 & 10.3347 & 7.8857 & 13.102 & 5.0167 & 4.9548 & 23.6527 & 3.5911 & $\\dots$ \\\\\n",
       "\t15 & 7.036 & 1.6797 & 9.3865 & 3.2605 & 10.7569 & -8.0802 & 4.7885 & 15.0583 & 0.6459 & $\\dots$ \\\\\n",
       "\t16 & 14.8595 & -4.5378 & 13.6483 & 5.648 & 9.9144 & 1.519 & 5.0358 & 13.4524 & -2.5419 & $\\dots$ \\\\\n",
       "\t17 & 14.1732 & -5.149 & 9.7591 & 3.7316 & 10.37 & -21.9202 & 7.713 & 18.8749 & 0.468 & $\\dots$ \\\\\n",
       "\t18 & 9.0936 & -8.7414 & 17.116 & 6.0126 & 9.2144 & -3.6761 & 4.6477 & 20.1053 & 1.7687 & $\\dots$ \\\\\n",
       "\t19 & 15.7875 & 0.1671 & 10.7782 & 3.8521 & 9.119 & 11.0196 & 6.1113 & 18.4368 & -1.0728 & $\\dots$ \\\\\n",
       "\t20 & 13.3874 & 1.0716 & 8.8767 & 7.8374 & 11.6404 & 6.2512 & 4.8837 & 18.2178 & 4.3871 & $\\dots$ \\\\\n",
       "\t21 & 8.0259 & -4.674 & 8.6431 & 2.2198 & 11.4555 & -14.0227 & 6.9192 & 17.8559 & 0.4283 & $\\dots$ \\\\\n",
       "\t22 & 14.3356 & 0.2317 & 9.5604 & 5.7603 & 10.3184 & -6.4721 & 4.6898 & 13.7783 & 1.8342 & $\\dots$ \\\\\n",
       "\t23 & 10.4255 & -6.1758 & 12.4846 & 7.9845 & 9.7032 & -14.5969 & 4.4173 & 19.3606 & -0.5899 & $\\dots$ \\\\\n",
       "\t24 & 12.3322 & -6.3835 & 7.2471 & 5.0403 & 10.0875 & -1.5252 & 5.823 & 17.9494 & -3.8454 & $\\dots$ \\\\\n",
       "\t25 & 14.1844 & -9.1044 & 9.7453 & 9.2638 & 9.3302 & 2.6818 & 5.4711 & 18.5414 & 2.2065 & $\\dots$ \\\\\n",
       "\t26 & 10.0029 & 0.253 & 7.5335 & 6.9343 & 11.6866 & -6.5147 & 6.7327 & 19.8941 & -6.6497 & $\\dots$ \\\\\n",
       "\t27 & 6.9056 & -4.8626 & 11.8932 & 5.3693 & 11.2551 & -18.9716 & 5.5991 & 18.9809 & 5.5612 & $\\dots$ \\\\\n",
       "\t28 & 8.7562 & -3.0647 & 11.799 & 9.2162 & 10.9847 & -22.4902 & 4.2991 & 13.98 & 3.3233 & $\\dots$ \\\\\n",
       "\t29 & 9.7243 & -1.5151 & 11.5582 & 5.736 & 12.1907 & 6.9664 & 4.4125 & 17.477 & -3.9683 & $\\dots$ \\\\\n",
       "\t30 & 13.243 & 1.2738 & 10.4245 & 3.1863 & 11.4951 & -1.4755 & 5.1005 & 17.1687 & 1.7115 & $\\dots$ \\\\\n",
       "\t$\\dots$ & $\\dots$ & $\\dots$ & $\\dots$ & $\\dots$ & $\\dots$ & $\\dots$ & $\\dots$ & $\\dots$ & $\\dots$ &  \\\\\n",
       "\\end{tabular}\n"
      ],
      "text/plain": [
       "200000×200 DataFrames.DataFrame. Omitted printing of 194 columns\n",
       "│ Row    │ var_0   │ var_1    │ var_2   │ var_3   │ var_4   │ var_5    │\n",
       "│        │ \u001b[90mFloat64\u001b[39m │ \u001b[90mFloat64\u001b[39m  │ \u001b[90mFloat64\u001b[39m │ \u001b[90mFloat64\u001b[39m │ \u001b[90mFloat64\u001b[39m │ \u001b[90mFloat64\u001b[39m  │\n",
       "├────────┼─────────┼──────────┼─────────┼─────────┼─────────┼──────────┤\n",
       "│ 1      │ 11.0656 │ 7.7798   │ 12.9536 │ 9.4292  │ 11.4327 │ -2.3805  │\n",
       "│ 2      │ 8.5304  │ 1.2543   │ 11.3047 │ 5.1858  │ 9.1974  │ -4.0117  │\n",
       "│ 3      │ 5.4827  │ -10.3581 │ 10.1407 │ 7.0479  │ 10.2628 │ 9.8052   │\n",
       "│ 4      │ 8.5374  │ -1.3222  │ 12.022  │ 6.5749  │ 8.8458  │ 3.1744   │\n",
       "│ 5      │ 11.7058 │ -0.1327  │ 14.1295 │ 7.7506  │ 9.1035  │ -8.5848  │\n",
       "│ 6      │ 5.9862  │ -2.2913  │ 8.6058  │ 7.0685  │ 14.2465 │ -8.6761  │\n",
       "│ 7      │ 8.4624  │ -6.1065  │ 7.3603  │ 8.2627  │ 12.0104 │ -7.2073  │\n",
       "│ 8      │ 17.3035 │ -2.4212  │ 13.3989 │ 8.3998  │ 11.0777 │ 9.6449   │\n",
       "│ 9      │ 6.9856  │ 0.8402   │ 13.7161 │ 4.7749  │ 8.6784  │ -13.7607 │\n",
       "│ 10     │ 10.3811 │ -6.9348  │ 14.669  │ 9.0941  │ 11.9058 │ -10.8018 │\n",
       "⋮\n",
       "│ 199990 │ 9.0436  │ -3.0491  │ 10.8737 │ 7.8789  │ 11.0275 │ -10.1812 │\n",
       "│ 199991 │ 5.5416  │ 1.734    │ 9.6938  │ 5.0126  │ 11.3049 │ -15.9906 │\n",
       "│ 199992 │ 8.7935  │ -4.0646  │ 9.948   │ 8.6947  │ 11.0497 │ -0.5129  │\n",
       "│ 199993 │ 16.4229 │ -5.0254  │ 13.1385 │ 5.4599  │ 13.1347 │ -2.6212  │\n",
       "│ 199994 │ 14.6764 │ -8.1066  │ 7.1167  │ 2.4138  │ 10.3845 │ -11.9327 │\n",
       "│ 199995 │ 8.2964  │ -2.3119  │ 11.2139 │ 9.1357  │ 8.5339  │ 4.035    │\n",
       "│ 199996 │ 13.1678 │ 1.0136   │ 10.4333 │ 6.7997  │ 8.5974  │ -4.1641  │\n",
       "│ 199997 │ 9.7171  │ -9.1462  │ 7.3443  │ 9.1421  │ 12.8936 │ 3.0191   │\n",
       "│ 199998 │ 11.636  │ 2.2769   │ 11.2074 │ 7.7649  │ 12.6796 │ 11.3224  │\n",
       "│ 199999 │ 13.5745 │ -0.5134  │ 13.6584 │ 7.4855  │ 11.2241 │ -11.3037 │\n",
       "│ 200000 │ 10.4664 │ 1.807    │ 10.2277 │ 6.0654  │ 10.0258 │ 1.0789   │"
      ]
     },
     "execution_count": 15,
     "metadata": {},
     "output_type": "execute_result"
    }
   ],
   "source": [
    "train_X = train[setdiff(names(train), [:ID_code, :target])]\n",
    "train_Y = train[:, :target]\n",
    "test_X = test[setdiff(names(train), [:ID_code, :target])]"
   ]
  },
  {
   "cell_type": "code",
   "execution_count": 16,
   "metadata": {},
   "outputs": [
    {
     "data": {
      "text/plain": [
       "\"    split train dataset for cross validation\\n\""
      ]
     },
     "execution_count": 16,
     "metadata": {},
     "output_type": "execute_result"
    }
   ],
   "source": [
    "\"\"\"\n",
    "    split train dataset for cross validation\n",
    "\"\"\""
   ]
  },
  {
   "cell_type": "code",
   "execution_count": 17,
   "metadata": {},
   "outputs": [
    {
     "data": {
      "text/plain": [
       "((160000×200 DataFrames.SubDataFrame. Omitted printing of 194 columns\n",
       "│ Row    │ var_0   │ var_1   │ var_2   │ var_3   │ var_4   │ var_5    │\n",
       "│        │ \u001b[90mFloat64\u001b[39m │ \u001b[90mFloat64\u001b[39m │ \u001b[90mFloat64\u001b[39m │ \u001b[90mFloat64\u001b[39m │ \u001b[90mFloat64\u001b[39m │ \u001b[90mFloat64\u001b[39m  │\n",
       "├────────┼─────────┼─────────┼─────────┼─────────┼─────────┼──────────┤\n",
       "│ 1      │ 8.9255  │ -6.7863 │ 11.9081 │ 5.093   │ 11.4607 │ -9.2834  │\n",
       "│ 2      │ 11.5006 │ -4.1473 │ 13.8588 │ 5.389   │ 12.3622 │ 7.0433   │\n",
       "│ 3      │ 8.6093  │ -2.7457 │ 12.0805 │ 7.8928  │ 10.5825 │ -9.0837  │\n",
       "│ 4      │ 11.0604 │ -2.1518 │ 8.9522  │ 7.1957  │ 12.5846 │ -1.8361  │\n",
       "│ 5      │ 9.8369  │ -1.4834 │ 12.8746 │ 6.6375  │ 12.2772 │ 2.4486   │\n",
       "│ 6      │ 11.4763 │ -2.3182 │ 12.608  │ 8.6264  │ 10.9621 │ 3.5609   │\n",
       "│ 7      │ 11.8091 │ -0.0832 │ 9.3494  │ 4.2916  │ 11.1355 │ -8.0198  │\n",
       "│ 8      │ 13.558  │ -7.9881 │ 13.8776 │ 7.5985  │ 8.6543  │ 0.831    │\n",
       "│ 9      │ 16.1071 │ 2.4426  │ 13.9307 │ 5.6327  │ 8.8014  │ 6.163    │\n",
       "│ 10     │ 12.5088 │ 1.9743  │ 8.896   │ 5.4508  │ 13.6043 │ -16.2859 │\n",
       "⋮\n",
       "│ 159990 │ 8.7406  │ -5.2054 │ 9.9508  │ 8.9089  │ 10.932  │ -8.851   │\n",
       "│ 159991 │ 12.342  │ 4.6515  │ 10.0918 │ 4.5714  │ 7.9176  │ -1.7471  │\n",
       "│ 159992 │ 10.2856 │ 2.2759  │ 7.8148  │ 8.267   │ 11.7482 │ -0.5597  │\n",
       "│ 159993 │ 7.1626  │ 0.9505  │ 14.2014 │ 7.6267  │ 11.1284 │ -3.2634  │\n",
       "│ 159994 │ 12.8019 │ -4.8516 │ 8.6107  │ 4.851   │ 11.0087 │ 6.3554   │\n",
       "│ 159995 │ 4.5366  │ 2.7467  │ 13.1794 │ 6.4922  │ 11.0553 │ 3.0117   │\n",
       "│ 159996 │ 14.714  │ -2.4184 │ 9.8179  │ 10.9255 │ 11.2273 │ 6.6947   │\n",
       "│ 159997 │ 7.8837  │ -8.7639 │ 14.9125 │ 9.896   │ 12.0698 │ -6.6969  │\n",
       "│ 159998 │ 9.5514  │ -0.4227 │ 8.0118  │ 5.6051  │ 8.6644  │ 0.0931   │\n",
       "│ 159999 │ 8.0769  │ -2.5845 │ 11.7822 │ 6.5998  │ 9.8884  │ -2.753   │\n",
       "│ 160000 │ 11.7144 │ -2.1492 │ 8.885   │ 3.9718  │ 10.9809 │ 0.5444   │, [0, 0, 0, 0, 0, 0, 0, 0, 0, 0  …  0, 0, 0, 0, 0, 0, 0, 0, 0, 0]), (40000×200 DataFrames.SubDataFrame. Omitted printing of 193 columns\n",
       "│ Row   │ var_0   │ var_1   │ var_2   │ var_3   │ var_4   │ var_5    │ var_6   │\n",
       "│       │ \u001b[90mFloat64\u001b[39m │ \u001b[90mFloat64\u001b[39m │ \u001b[90mFloat64\u001b[39m │ \u001b[90mFloat64\u001b[39m │ \u001b[90mFloat64\u001b[39m │ \u001b[90mFloat64\u001b[39m  │ \u001b[90mFloat64\u001b[39m │\n",
       "├───────┼─────────┼─────────┼─────────┼─────────┼─────────┼──────────┼─────────┤\n",
       "│ 1     │ 12.232  │ -9.1125 │ 8.7408  │ 5.2574  │ 11.2683 │ 6.8585   │ 4.3081  │\n",
       "│ 2     │ 13.1005 │ -3.5548 │ 12.21   │ 9.4847  │ 11.6753 │ -0.1341  │ 6.449   │\n",
       "│ 3     │ 9.2485  │ -2.2238 │ 13.2795 │ 8.1007  │ 12.2664 │ -12.2029 │ 6.3607  │\n",
       "│ 4     │ 9.667   │ -0.1424 │ 9.0655  │ 6.6891  │ 13.6792 │ -13.4911 │ 4.2528  │\n",
       "│ 5     │ 9.038   │ -3.5932 │ 9.7009  │ 7.3518  │ 11.3797 │ 1.4633   │ 4.7521  │\n",
       "│ 6     │ 11.8282 │ -8.7593 │ 10.5551 │ 9.8438  │ 13.1909 │ -6.677   │ 6.0133  │\n",
       "│ 7     │ 14.9078 │ -0.6482 │ 11.8807 │ 8.8366  │ 10.4064 │ -1.8781  │ 4.3887  │\n",
       "│ 8     │ 11.0798 │ -0.2059 │ 9.9711  │ 6.0745  │ 12.5459 │ -0.1836  │ 6.7379  │\n",
       "│ 9     │ 8.0218  │ -0.2619 │ 9.4955  │ 4.7686  │ 12.6581 │ 5.2137   │ 5.8615  │\n",
       "│ 10    │ 11.743  │ 4.3792  │ 8.6274  │ 5.8484  │ 11.2058 │ -11.4117 │ 5.2849  │\n",
       "⋮\n",
       "│ 39990 │ 11.7554 │ -4.5356 │ 9.2269  │ 7.7733  │ 10.6232 │ -2.248   │ 5.4759  │\n",
       "│ 39991 │ 14.1475 │ 1.8568  │ 11.0066 │ 3.6779  │ 12.1944 │ -16.5936 │ 5.3217  │\n",
       "│ 39992 │ 9.9909  │ 2.5523  │ 11.9653 │ 6.3958  │ 13.5497 │ -9.5293  │ 6.0864  │\n",
       "│ 39993 │ 12.2825 │ 2.6918  │ 15.4684 │ 6.4262  │ 10.9863 │ 9.9659   │ 4.503   │\n",
       "│ 39994 │ 13.2152 │ -5.8006 │ 9.726   │ 6.591   │ 12.4612 │ -7.1652  │ 6.0666  │\n",
       "│ 39995 │ 12.3925 │ -5.8821 │ 11.2323 │ 3.9237  │ 10.4509 │ 10.7262  │ 7.0503  │\n",
       "│ 39996 │ 11.488  │ -0.4956 │ 8.2622  │ 3.5142  │ 10.3404 │ 11.6081  │ 5.6709  │\n",
       "│ 39997 │ 4.9149  │ -2.4484 │ 16.7052 │ 6.6345  │ 8.3096  │ -10.5628 │ 5.8802  │\n",
       "│ 39998 │ 11.2232 │ -5.0518 │ 10.5127 │ 5.6456  │ 9.341   │ -5.4086  │ 4.5555  │\n",
       "│ 39999 │ 9.7148  │ -8.6098 │ 13.6104 │ 5.793   │ 12.5173 │ 0.5339   │ 6.0479  │\n",
       "│ 40000 │ 10.8762 │ -5.7105 │ 12.1183 │ 8.0328  │ 11.5577 │ 0.3488   │ 5.2839  │, [0, 0, 0, 0, 1, 0, 0, 0, 0, 0  …  1, 0, 0, 0, 0, 0, 0, 0, 0, 0]))"
      ]
     },
     "execution_count": 17,
     "metadata": {},
     "output_type": "execute_result"
    }
   ],
   "source": [
    "(X_build, y_build), (X_valid, y_valid) = splitobs((train_X, train_Y), at = 0.8)"
   ]
  },
  {
   "cell_type": "code",
   "execution_count": 18,
   "metadata": {},
   "outputs": [
    {
     "data": {
      "text/plain": [
       "\"    Build XGBoost DMatrix for build & valid\\n\""
      ]
     },
     "execution_count": 18,
     "metadata": {},
     "output_type": "execute_result"
    }
   ],
   "source": [
    "\"\"\"\n",
    "    Build XGBoost DMatrix for build & valid\n",
    "\"\"\""
   ]
  },
  {
   "cell_type": "code",
   "execution_count": 19,
   "metadata": {},
   "outputs": [
    {
     "name": "stderr",
     "output_type": "stream",
     "text": [
      "┌ Warning: `convert(::Type{Array{T}}, df::AbstractDataFrame) where T` is deprecated, use `convert(Matrix{T}, df)` instead.\n",
      "│   caller = top-level scope at In[19]:1\n",
      "└ @ Core In[19]:1\n",
      "┌ Warning: `convert(::Type{Array{T}}, df::AbstractDataFrame) where T` is deprecated, use `convert(Matrix{T}, df)` instead.\n",
      "│   caller = top-level scope at In[19]:2\n",
      "└ @ Core In[19]:2\n"
     ]
    },
    {
     "data": {
      "text/plain": [
       "DMatrix(Ptr{Nothing} @0x0000000041f20910, getfield(XGBoost, Symbol(\"#_setinfo#8\"))())"
      ]
     },
     "execution_count": 19,
     "metadata": {},
     "output_type": "execute_result"
    }
   ],
   "source": [
    "dbuild = DMatrix(convert(Array{Float32}, X_build), label = convert(Array{Float32}, y_build))\n",
    "dvalid = DMatrix(convert(Array{Float32}, X_valid), label = convert(Array{Float32}, y_valid))"
   ]
  },
  {
   "cell_type": "code",
   "execution_count": 20,
   "metadata": {},
   "outputs": [
    {
     "data": {
      "text/plain": [
       "\"    Build XGBoost DMatrix for train & test\\n    We may not re-train with full train dataset here\\n\""
      ]
     },
     "execution_count": 20,
     "metadata": {},
     "output_type": "execute_result"
    }
   ],
   "source": [
    "\"\"\"\n",
    "    Build XGBoost DMatrix for train & test\n",
    "    We may not re-train with full train dataset here\n",
    "\"\"\""
   ]
  },
  {
   "cell_type": "code",
   "execution_count": 21,
   "metadata": {},
   "outputs": [
    {
     "name": "stderr",
     "output_type": "stream",
     "text": [
      "┌ Warning: `convert(::Type{Array{T}}, df::AbstractDataFrame) where T` is deprecated, use `convert(Matrix{T}, df)` instead.\n",
      "│   caller = top-level scope at In[21]:1\n",
      "└ @ Core In[21]:1\n",
      "┌ Warning: `convert(::Type{Array{T}}, df::AbstractDataFrame) where T` is deprecated, use `convert(Matrix{T}, df)` instead.\n",
      "│   caller = top-level scope at In[21]:2\n",
      "└ @ Core In[21]:2\n"
     ]
    },
    {
     "data": {
      "text/plain": [
       "DMatrix(Ptr{Nothing} @0x0000000041f25550, getfield(XGBoost, Symbol(\"#_setinfo#8\"))())"
      ]
     },
     "execution_count": 21,
     "metadata": {},
     "output_type": "execute_result"
    }
   ],
   "source": [
    "dtrain = DMatrix(convert(Array{Float32}, train_X), label = convert(Array{Float32}, train_Y))\n",
    "dtest = DMatrix(convert(Array{Float32}, test_X))"
   ]
  },
  {
   "cell_type": "code",
   "execution_count": 22,
   "metadata": {},
   "outputs": [
    {
     "data": {
      "text/plain": [
       "\"    XGBoost parameters\\n\""
      ]
     },
     "execution_count": 22,
     "metadata": {},
     "output_type": "execute_result"
    }
   ],
   "source": [
    "\"\"\"\n",
    "    XGBoost parameters\n",
    "\"\"\""
   ]
  },
  {
   "cell_type": "code",
   "execution_count": 23,
   "metadata": {},
   "outputs": [
    {
     "data": {
      "text/plain": [
       "7-element Array{Pair{String,Any},1}:\n",
       "              \"eta\" => 0.01        \n",
       "        \"max_depth\" => 8           \n",
       "        \"objective\" => \"reg:linear\"\n",
       "           \"silent\" => 0           \n",
       "        \"subsample\" => 0.7         \n",
       " \"colsample_bytree\" => 0.7         \n",
       "          \"nthread\" => 10          "
      ]
     },
     "execution_count": 23,
     "metadata": {},
     "output_type": "execute_result"
    }
   ],
   "source": [
    "num_round = 500\n",
    "param = [\"eta\" => 0.01, \"max_depth\" => 8, \"objective\" => \"reg:linear\",\n",
    "        \"silent\" => 0, \"subsample\" => 0.7, \"colsample_bytree\" => 0.7, \"nthread\" => 10]"
   ]
  },
  {
   "cell_type": "code",
   "execution_count": 24,
   "metadata": {},
   "outputs": [
    {
     "data": {
      "text/plain": [
       "\"    watchlist for cross validation monitoring\\n    here main focus to check the run time for performance monitoring rather folding, seeding\\n\""
      ]
     },
     "execution_count": 24,
     "metadata": {},
     "output_type": "execute_result"
    }
   ],
   "source": [
    "\"\"\"\n",
    "    watchlist for cross validation monitoring\n",
    "    here main focus to check the run time for performance monitoring rather folding, seeding\n",
    "\"\"\""
   ]
  },
  {
   "cell_type": "code",
   "execution_count": 25,
   "metadata": {},
   "outputs": [
    {
     "data": {
      "text/plain": [
       "2-element Array{Tuple{DMatrix,String},1}:\n",
       " (DMatrix(Ptr{Nothing} @0x0000000041f20910, getfield(XGBoost, Symbol(\"#_setinfo#8\"))()), \"eval\") \n",
       " (DMatrix(Ptr{Nothing} @0x0000000041f20790, getfield(XGBoost, Symbol(\"#_setinfo#8\"))()), \"train\")"
      ]
     },
     "execution_count": 25,
     "metadata": {},
     "output_type": "execute_result"
    }
   ],
   "source": [
    "watchlist  = [(dvalid,\"eval\"), (dbuild,\"train\")]"
   ]
  },
  {
   "cell_type": "code",
   "execution_count": 26,
   "metadata": {},
   "outputs": [
    {
     "data": {
      "text/plain": [
       "\"    Model training and log run time\\n\""
      ]
     },
     "execution_count": 26,
     "metadata": {},
     "output_type": "execute_result"
    }
   ],
   "source": [
    "\"\"\"\n",
    "    Model training and log run time\n",
    "\"\"\""
   ]
  },
  {
   "cell_type": "code",
   "execution_count": 27,
   "metadata": {},
   "outputs": [
    {
     "name": "stderr",
     "output_type": "stream",
     "text": [
      "[1]\teval-rmse:0.496727\ttrain-rmse:0.496650\n",
      "[2]\teval-rmse:0.493514\ttrain-rmse:0.493405\n",
      "[3]\teval-rmse:0.490323\ttrain-rmse:0.490133\n",
      "[4]\teval-rmse:0.487203\ttrain-rmse:0.486974\n",
      "[5]\teval-rmse:0.484120\ttrain-rmse:0.483809\n",
      "[6]\teval-rmse:0.481063\ttrain-rmse:0.480668\n",
      "[7]\teval-rmse:0.478054\ttrain-rmse:0.477592\n",
      "[8]\teval-rmse:0.475072\ttrain-rmse:0.474564\n",
      "[9]\teval-rmse:0.472133\ttrain-rmse:0.471547\n",
      "[10]\teval-rmse:0.469239\ttrain-rmse:0.468577\n",
      "[11]\teval-rmse:0.466379\ttrain-rmse:0.465651\n",
      "[12]\teval-rmse:0.463550\ttrain-rmse:0.462754\n",
      "[13]\teval-rmse:0.460772\ttrain-rmse:0.459900\n",
      "[14]\teval-rmse:0.458033\ttrain-rmse:0.457085\n",
      "[15]\teval-rmse:0.455329\ttrain-rmse:0.454303\n",
      "[16]\teval-rmse:0.452664\ttrain-rmse:0.451563\n",
      "[17]\teval-rmse:0.450050\ttrain-rmse:0.448872\n",
      "[18]\teval-rmse:0.447454\ttrain-rmse:0.446208\n",
      "[19]\teval-rmse:0.444890\ttrain-rmse:0.443574\n",
      "[20]\teval-rmse:0.442358\ttrain-rmse:0.440976\n",
      "[21]\teval-rmse:0.439865\ttrain-rmse:0.438413\n",
      "[22]\teval-rmse:0.437404\ttrain-rmse:0.435873\n",
      "[23]\teval-rmse:0.434978\ttrain-rmse:0.433370\n",
      "[24]\teval-rmse:0.432592\ttrain-rmse:0.430910\n",
      "[25]\teval-rmse:0.430236\ttrain-rmse:0.428499\n",
      "[26]\teval-rmse:0.427917\ttrain-rmse:0.426087\n",
      "[27]\teval-rmse:0.425624\ttrain-rmse:0.423733\n",
      "[28]\teval-rmse:0.423374\ttrain-rmse:0.421397\n",
      "[29]\teval-rmse:0.421159\ttrain-rmse:0.419110\n",
      "[30]\teval-rmse:0.418966\ttrain-rmse:0.416843\n",
      "[31]\teval-rmse:0.416811\ttrain-rmse:0.414599\n",
      "[32]\teval-rmse:0.414687\ttrain-rmse:0.412402\n",
      "[33]\teval-rmse:0.412598\ttrain-rmse:0.410227\n",
      "[34]\teval-rmse:0.410529\ttrain-rmse:0.408078\n",
      "[35]\teval-rmse:0.408487\ttrain-rmse:0.405953\n",
      "[36]\teval-rmse:0.406472\ttrain-rmse:0.403858\n",
      "[37]\teval-rmse:0.404492\ttrain-rmse:0.401799\n",
      "[38]\teval-rmse:0.402537\ttrain-rmse:0.399766\n",
      "[39]\teval-rmse:0.400616\ttrain-rmse:0.397759\n",
      "[40]\teval-rmse:0.398729\ttrain-rmse:0.395792\n",
      "[41]\teval-rmse:0.396863\ttrain-rmse:0.393849\n",
      "[42]\teval-rmse:0.395018\ttrain-rmse:0.391918\n",
      "[43]\teval-rmse:0.393209\ttrain-rmse:0.390025\n",
      "[44]\teval-rmse:0.391428\ttrain-rmse:0.388168\n",
      "[45]\teval-rmse:0.389681\ttrain-rmse:0.386332\n",
      "[46]\teval-rmse:0.387948\ttrain-rmse:0.384513\n",
      "[47]\teval-rmse:0.386240\ttrain-rmse:0.382719\n",
      "[48]\teval-rmse:0.384564\ttrain-rmse:0.380960\n",
      "[49]\teval-rmse:0.382905\ttrain-rmse:0.379223\n",
      "[50]\teval-rmse:0.381274\ttrain-rmse:0.377509\n",
      "[51]\teval-rmse:0.379675\ttrain-rmse:0.375828\n",
      "[52]\teval-rmse:0.378102\ttrain-rmse:0.374172\n",
      "[53]\teval-rmse:0.376545\ttrain-rmse:0.372524\n",
      "[54]\teval-rmse:0.375017\ttrain-rmse:0.370920\n",
      "[55]\teval-rmse:0.373510\ttrain-rmse:0.369318\n",
      "[56]\teval-rmse:0.372020\ttrain-rmse:0.367754\n",
      "[57]\teval-rmse:0.370559\ttrain-rmse:0.366206\n",
      "[58]\teval-rmse:0.369120\ttrain-rmse:0.364682\n",
      "[59]\teval-rmse:0.367689\ttrain-rmse:0.363182\n",
      "[60]\teval-rmse:0.366295\ttrain-rmse:0.361700\n",
      "[61]\teval-rmse:0.364927\ttrain-rmse:0.360235\n",
      "[62]\teval-rmse:0.363572\ttrain-rmse:0.358796\n",
      "[63]\teval-rmse:0.362246\ttrain-rmse:0.357372\n",
      "[64]\teval-rmse:0.360931\ttrain-rmse:0.355962\n",
      "[65]\teval-rmse:0.359655\ttrain-rmse:0.354591\n",
      "[66]\teval-rmse:0.358381\ttrain-rmse:0.353233\n",
      "[67]\teval-rmse:0.357136\ttrain-rmse:0.351913\n",
      "[68]\teval-rmse:0.355911\ttrain-rmse:0.350589\n",
      "[69]\teval-rmse:0.354706\ttrain-rmse:0.349291\n",
      "[70]\teval-rmse:0.353514\ttrain-rmse:0.348016\n",
      "[71]\teval-rmse:0.352342\ttrain-rmse:0.346745\n",
      "[72]\teval-rmse:0.351187\ttrain-rmse:0.345499\n",
      "[73]\teval-rmse:0.350053\ttrain-rmse:0.344271\n",
      "[74]\teval-rmse:0.348940\ttrain-rmse:0.343072\n",
      "[75]\teval-rmse:0.347843\ttrain-rmse:0.341884\n",
      "[76]\teval-rmse:0.346762\ttrain-rmse:0.340712\n",
      "[77]\teval-rmse:0.345699\ttrain-rmse:0.339550\n",
      "[78]\teval-rmse:0.344656\ttrain-rmse:0.338412\n",
      "[79]\teval-rmse:0.343614\ttrain-rmse:0.337296\n",
      "[80]\teval-rmse:0.342597\ttrain-rmse:0.336187\n",
      "[81]\teval-rmse:0.341610\ttrain-rmse:0.335090\n",
      "[82]\teval-rmse:0.340625\ttrain-rmse:0.334013\n",
      "[83]\teval-rmse:0.339664\ttrain-rmse:0.332948\n",
      "[84]\teval-rmse:0.338711\ttrain-rmse:0.331902\n",
      "[85]\teval-rmse:0.337775\ttrain-rmse:0.330874\n",
      "[86]\teval-rmse:0.336860\ttrain-rmse:0.329860\n",
      "[87]\teval-rmse:0.335954\ttrain-rmse:0.328864\n",
      "[88]\teval-rmse:0.335059\ttrain-rmse:0.327878\n",
      "[89]\teval-rmse:0.334180\ttrain-rmse:0.326907\n",
      "[90]\teval-rmse:0.333318\ttrain-rmse:0.325954\n",
      "[91]\teval-rmse:0.332468\ttrain-rmse:0.325022\n",
      "[92]\teval-rmse:0.331633\ttrain-rmse:0.324099\n",
      "[93]\teval-rmse:0.330806\ttrain-rmse:0.323180\n",
      "[94]\teval-rmse:0.330003\ttrain-rmse:0.322272\n",
      "[95]\teval-rmse:0.329205\ttrain-rmse:0.321391\n",
      "[96]\teval-rmse:0.328433\ttrain-rmse:0.320522\n",
      "[97]\teval-rmse:0.327667\ttrain-rmse:0.319661\n",
      "[98]\teval-rmse:0.326912\ttrain-rmse:0.318812\n",
      "[99]\teval-rmse:0.326172\ttrain-rmse:0.317967\n",
      "[100]\teval-rmse:0.325439\ttrain-rmse:0.317151\n",
      "[101]\teval-rmse:0.324719\ttrain-rmse:0.316352\n",
      "[102]\teval-rmse:0.324011\ttrain-rmse:0.315549\n",
      "[103]\teval-rmse:0.323305\ttrain-rmse:0.314750\n",
      "[104]\teval-rmse:0.322622\ttrain-rmse:0.313976\n",
      "[105]\teval-rmse:0.321944\ttrain-rmse:0.313206\n",
      "[106]\teval-rmse:0.321282\ttrain-rmse:0.312455\n",
      "[107]\teval-rmse:0.320633\ttrain-rmse:0.311722\n",
      "[108]\teval-rmse:0.319986\ttrain-rmse:0.310970\n",
      "[109]\teval-rmse:0.319354\ttrain-rmse:0.310263\n",
      "[110]\teval-rmse:0.318743\ttrain-rmse:0.309553\n",
      "[111]\teval-rmse:0.318130\ttrain-rmse:0.308855\n",
      "[112]\teval-rmse:0.317532\ttrain-rmse:0.308162\n",
      "[113]\teval-rmse:0.316935\ttrain-rmse:0.307474\n",
      "[114]\teval-rmse:0.316345\ttrain-rmse:0.306802\n",
      "[115]\teval-rmse:0.315773\ttrain-rmse:0.306127\n",
      "[116]\teval-rmse:0.315211\ttrain-rmse:0.305476\n",
      "[117]\teval-rmse:0.314652\ttrain-rmse:0.304833\n",
      "[118]\teval-rmse:0.314111\ttrain-rmse:0.304214\n",
      "[119]\teval-rmse:0.313573\ttrain-rmse:0.303588\n",
      "[120]\teval-rmse:0.313049\ttrain-rmse:0.302980\n",
      "[121]\teval-rmse:0.312533\ttrain-rmse:0.302370\n",
      "[122]\teval-rmse:0.312018\ttrain-rmse:0.301767\n",
      "[123]\teval-rmse:0.311511\ttrain-rmse:0.301174\n",
      "[124]\teval-rmse:0.311020\ttrain-rmse:0.300597\n",
      "[125]\teval-rmse:0.310534\ttrain-rmse:0.300026\n",
      "[126]\teval-rmse:0.310058\ttrain-rmse:0.299464\n",
      "[127]\teval-rmse:0.309599\ttrain-rmse:0.298918\n",
      "[128]\teval-rmse:0.309135\ttrain-rmse:0.298372\n",
      "[129]\teval-rmse:0.308679\ttrain-rmse:0.297824\n",
      "[130]\teval-rmse:0.308230\ttrain-rmse:0.297283\n",
      "[131]\teval-rmse:0.307793\ttrain-rmse:0.296766\n",
      "[132]\teval-rmse:0.307358\ttrain-rmse:0.296237\n",
      "[133]\teval-rmse:0.306927\ttrain-rmse:0.295714\n",
      "[134]\teval-rmse:0.306514\ttrain-rmse:0.295213\n",
      "[135]\teval-rmse:0.306107\ttrain-rmse:0.294719\n",
      "[136]\teval-rmse:0.305702\ttrain-rmse:0.294229\n",
      "[137]\teval-rmse:0.305300\ttrain-rmse:0.293754\n",
      "[138]\teval-rmse:0.304904\ttrain-rmse:0.293264\n",
      "[139]\teval-rmse:0.304522\ttrain-rmse:0.292784\n",
      "[140]\teval-rmse:0.304139\ttrain-rmse:0.292321\n",
      "[141]\teval-rmse:0.303769\ttrain-rmse:0.291859\n",
      "[142]\teval-rmse:0.303404\ttrain-rmse:0.291397\n",
      "[143]\teval-rmse:0.303040\ttrain-rmse:0.290961\n",
      "[144]\teval-rmse:0.302675\ttrain-rmse:0.290515\n",
      "[145]\teval-rmse:0.302323\ttrain-rmse:0.290081\n",
      "[146]\teval-rmse:0.301970\ttrain-rmse:0.289643\n",
      "[147]\teval-rmse:0.301638\ttrain-rmse:0.289211\n",
      "[148]\teval-rmse:0.301306\ttrain-rmse:0.288794\n",
      "[149]\teval-rmse:0.300989\ttrain-rmse:0.288392\n",
      "[150]\teval-rmse:0.300666\ttrain-rmse:0.287970\n",
      "[151]\teval-rmse:0.300350\ttrain-rmse:0.287551\n",
      "[152]\teval-rmse:0.300043\ttrain-rmse:0.287149\n",
      "[153]\teval-rmse:0.299725\ttrain-rmse:0.286746\n",
      "[154]\teval-rmse:0.299426\ttrain-rmse:0.286363\n",
      "[155]\teval-rmse:0.299129\ttrain-rmse:0.285985\n",
      "[156]\teval-rmse:0.298834\ttrain-rmse:0.285605\n",
      "[157]\teval-rmse:0.298544\ttrain-rmse:0.285226\n",
      "[158]\teval-rmse:0.298259\ttrain-rmse:0.284850\n",
      "[159]\teval-rmse:0.297979\ttrain-rmse:0.284483\n",
      "[160]\teval-rmse:0.297709\ttrain-rmse:0.284118\n",
      "[161]\teval-rmse:0.297445\ttrain-rmse:0.283765\n",
      "[162]\teval-rmse:0.297183\ttrain-rmse:0.283420\n",
      "[163]\teval-rmse:0.296917\ttrain-rmse:0.283083\n",
      "[164]\teval-rmse:0.296659\ttrain-rmse:0.282742\n",
      "[165]\teval-rmse:0.296416\ttrain-rmse:0.282412\n",
      "[166]\teval-rmse:0.296163\ttrain-rmse:0.282076\n",
      "[167]\teval-rmse:0.295905\ttrain-rmse:0.281743\n",
      "[168]\teval-rmse:0.295658\ttrain-rmse:0.281419\n",
      "[169]\teval-rmse:0.295425\ttrain-rmse:0.281102\n",
      "[170]\teval-rmse:0.295187\ttrain-rmse:0.280794\n",
      "[171]\teval-rmse:0.294949\ttrain-rmse:0.280477\n",
      "[172]\teval-rmse:0.294717\ttrain-rmse:0.280162\n",
      "[173]\teval-rmse:0.294496\ttrain-rmse:0.279850\n",
      "[174]\teval-rmse:0.294273\ttrain-rmse:0.279549\n",
      "[175]\teval-rmse:0.294053\ttrain-rmse:0.279249\n",
      "[176]\teval-rmse:0.293839\ttrain-rmse:0.278953\n",
      "[177]\teval-rmse:0.293627\ttrain-rmse:0.278669\n",
      "[178]\teval-rmse:0.293418\ttrain-rmse:0.278380\n",
      "[179]\teval-rmse:0.293218\ttrain-rmse:0.278101\n",
      "[180]\teval-rmse:0.293025\ttrain-rmse:0.277814\n",
      "[181]\teval-rmse:0.292827\ttrain-rmse:0.277524\n",
      "[182]\teval-rmse:0.292625\ttrain-rmse:0.277239\n",
      "[183]\teval-rmse:0.292425\ttrain-rmse:0.276965\n",
      "[184]\teval-rmse:0.292239\ttrain-rmse:0.276688\n",
      "[185]\teval-rmse:0.292046\ttrain-rmse:0.276420\n"
     ]
    },
    {
     "name": "stderr",
     "output_type": "stream",
     "text": [
      "[186]\teval-rmse:0.291862\ttrain-rmse:0.276144\n",
      "[187]\teval-rmse:0.291681\ttrain-rmse:0.275873\n",
      "[188]\teval-rmse:0.291492\ttrain-rmse:0.275616\n",
      "[189]\teval-rmse:0.291320\ttrain-rmse:0.275353\n",
      "[190]\teval-rmse:0.291150\ttrain-rmse:0.275108\n",
      "[191]\teval-rmse:0.290990\ttrain-rmse:0.274855\n",
      "[192]\teval-rmse:0.290818\ttrain-rmse:0.274607\n",
      "[193]\teval-rmse:0.290653\ttrain-rmse:0.274364\n",
      "[194]\teval-rmse:0.290491\ttrain-rmse:0.274114\n",
      "[195]\teval-rmse:0.290325\ttrain-rmse:0.273877\n",
      "[196]\teval-rmse:0.290169\ttrain-rmse:0.273638\n",
      "[197]\teval-rmse:0.290007\ttrain-rmse:0.273391\n",
      "[198]\teval-rmse:0.289842\ttrain-rmse:0.273152\n",
      "[199]\teval-rmse:0.289684\ttrain-rmse:0.272911\n",
      "[200]\teval-rmse:0.289530\ttrain-rmse:0.272686\n",
      "[201]\teval-rmse:0.289381\ttrain-rmse:0.272462\n",
      "[202]\teval-rmse:0.289239\ttrain-rmse:0.272234\n",
      "[203]\teval-rmse:0.289084\ttrain-rmse:0.271999\n",
      "[204]\teval-rmse:0.288947\ttrain-rmse:0.271772\n",
      "[205]\teval-rmse:0.288812\ttrain-rmse:0.271554\n",
      "[206]\teval-rmse:0.288669\ttrain-rmse:0.271335\n",
      "[207]\teval-rmse:0.288540\ttrain-rmse:0.271119\n",
      "[208]\teval-rmse:0.288398\ttrain-rmse:0.270902\n",
      "[209]\teval-rmse:0.288259\ttrain-rmse:0.270688\n",
      "[210]\teval-rmse:0.288138\ttrain-rmse:0.270473\n",
      "[211]\teval-rmse:0.288003\ttrain-rmse:0.270261\n",
      "[212]\teval-rmse:0.287878\ttrain-rmse:0.270058\n",
      "[213]\teval-rmse:0.287747\ttrain-rmse:0.269856\n",
      "[214]\teval-rmse:0.287623\ttrain-rmse:0.269656\n",
      "[215]\teval-rmse:0.287489\ttrain-rmse:0.269464\n",
      "[216]\teval-rmse:0.287365\ttrain-rmse:0.269258\n",
      "[217]\teval-rmse:0.287242\ttrain-rmse:0.269069\n",
      "[218]\teval-rmse:0.287117\ttrain-rmse:0.268872\n",
      "[219]\teval-rmse:0.286998\ttrain-rmse:0.268676\n",
      "[220]\teval-rmse:0.286878\ttrain-rmse:0.268482\n",
      "[221]\teval-rmse:0.286761\ttrain-rmse:0.268282\n",
      "[222]\teval-rmse:0.286648\ttrain-rmse:0.268090\n",
      "[223]\teval-rmse:0.286541\ttrain-rmse:0.267898\n",
      "[224]\teval-rmse:0.286423\ttrain-rmse:0.267706\n",
      "[225]\teval-rmse:0.286313\ttrain-rmse:0.267527\n",
      "[226]\teval-rmse:0.286193\ttrain-rmse:0.267332\n",
      "[227]\teval-rmse:0.286080\ttrain-rmse:0.267135\n",
      "[228]\teval-rmse:0.285976\ttrain-rmse:0.266954\n",
      "[229]\teval-rmse:0.285871\ttrain-rmse:0.266771\n",
      "[230]\teval-rmse:0.285768\ttrain-rmse:0.266592\n",
      "[231]\teval-rmse:0.285665\ttrain-rmse:0.266427\n",
      "[232]\teval-rmse:0.285566\ttrain-rmse:0.266233\n",
      "[233]\teval-rmse:0.285468\ttrain-rmse:0.266050\n",
      "[234]\teval-rmse:0.285378\ttrain-rmse:0.265870\n",
      "[235]\teval-rmse:0.285289\ttrain-rmse:0.265695\n",
      "[236]\teval-rmse:0.285206\ttrain-rmse:0.265528\n",
      "[237]\teval-rmse:0.285102\ttrain-rmse:0.265340\n",
      "[238]\teval-rmse:0.285010\ttrain-rmse:0.265172\n",
      "[239]\teval-rmse:0.284909\ttrain-rmse:0.265001\n",
      "[240]\teval-rmse:0.284824\ttrain-rmse:0.264846\n",
      "[241]\teval-rmse:0.284731\ttrain-rmse:0.264682\n",
      "[242]\teval-rmse:0.284640\ttrain-rmse:0.264522\n",
      "[243]\teval-rmse:0.284559\ttrain-rmse:0.264371\n",
      "[244]\teval-rmse:0.284478\ttrain-rmse:0.264214\n",
      "[245]\teval-rmse:0.284387\ttrain-rmse:0.264047\n",
      "[246]\teval-rmse:0.284304\ttrain-rmse:0.263890\n",
      "[247]\teval-rmse:0.284227\ttrain-rmse:0.263733\n",
      "[248]\teval-rmse:0.284138\ttrain-rmse:0.263574\n",
      "[249]\teval-rmse:0.284051\ttrain-rmse:0.263413\n",
      "[250]\teval-rmse:0.283963\ttrain-rmse:0.263253\n",
      "[251]\teval-rmse:0.283882\ttrain-rmse:0.263095\n",
      "[252]\teval-rmse:0.283795\ttrain-rmse:0.262936\n",
      "[253]\teval-rmse:0.283716\ttrain-rmse:0.262780\n",
      "[254]\teval-rmse:0.283640\ttrain-rmse:0.262632\n",
      "[255]\teval-rmse:0.283559\ttrain-rmse:0.262490\n",
      "[256]\teval-rmse:0.283483\ttrain-rmse:0.262325\n",
      "[257]\teval-rmse:0.283395\ttrain-rmse:0.262171\n",
      "[258]\teval-rmse:0.283314\ttrain-rmse:0.262004\n",
      "[259]\teval-rmse:0.283232\ttrain-rmse:0.261842\n",
      "[260]\teval-rmse:0.283158\ttrain-rmse:0.261698\n",
      "[261]\teval-rmse:0.283092\ttrain-rmse:0.261551\n",
      "[262]\teval-rmse:0.283010\ttrain-rmse:0.261397\n",
      "[263]\teval-rmse:0.282941\ttrain-rmse:0.261238\n",
      "[264]\teval-rmse:0.282867\ttrain-rmse:0.261093\n",
      "[265]\teval-rmse:0.282791\ttrain-rmse:0.260945\n",
      "[266]\teval-rmse:0.282725\ttrain-rmse:0.260807\n",
      "[267]\teval-rmse:0.282657\ttrain-rmse:0.260679\n",
      "[268]\teval-rmse:0.282589\ttrain-rmse:0.260529\n",
      "[269]\teval-rmse:0.282519\ttrain-rmse:0.260380\n",
      "[270]\teval-rmse:0.282456\ttrain-rmse:0.260219\n",
      "[271]\teval-rmse:0.282383\ttrain-rmse:0.260097\n",
      "[272]\teval-rmse:0.282315\ttrain-rmse:0.259962\n",
      "[273]\teval-rmse:0.282249\ttrain-rmse:0.259822\n",
      "[274]\teval-rmse:0.282188\ttrain-rmse:0.259689\n",
      "[275]\teval-rmse:0.282121\ttrain-rmse:0.259548\n",
      "[276]\teval-rmse:0.282061\ttrain-rmse:0.259411\n",
      "[277]\teval-rmse:0.281997\ttrain-rmse:0.259270\n",
      "[278]\teval-rmse:0.281931\ttrain-rmse:0.259129\n",
      "[279]\teval-rmse:0.281863\ttrain-rmse:0.259000\n",
      "[280]\teval-rmse:0.281790\ttrain-rmse:0.258869\n",
      "[281]\teval-rmse:0.281719\ttrain-rmse:0.258724\n",
      "[282]\teval-rmse:0.281664\ttrain-rmse:0.258592\n",
      "[283]\teval-rmse:0.281605\ttrain-rmse:0.258473\n",
      "[284]\teval-rmse:0.281544\ttrain-rmse:0.258337\n",
      "[285]\teval-rmse:0.281482\ttrain-rmse:0.258202\n",
      "[286]\teval-rmse:0.281421\ttrain-rmse:0.258069\n",
      "[287]\teval-rmse:0.281366\ttrain-rmse:0.257941\n",
      "[288]\teval-rmse:0.281301\ttrain-rmse:0.257797\n",
      "[289]\teval-rmse:0.281248\ttrain-rmse:0.257668\n",
      "[290]\teval-rmse:0.281192\ttrain-rmse:0.257543\n",
      "[291]\teval-rmse:0.281132\ttrain-rmse:0.257417\n",
      "[292]\teval-rmse:0.281081\ttrain-rmse:0.257299\n",
      "[293]\teval-rmse:0.281024\ttrain-rmse:0.257176\n",
      "[294]\teval-rmse:0.280963\ttrain-rmse:0.257047\n",
      "[295]\teval-rmse:0.280906\ttrain-rmse:0.256920\n",
      "[296]\teval-rmse:0.280844\ttrain-rmse:0.256805\n",
      "[297]\teval-rmse:0.280786\ttrain-rmse:0.256687\n",
      "[298]\teval-rmse:0.280730\ttrain-rmse:0.256561\n",
      "[299]\teval-rmse:0.280676\ttrain-rmse:0.256428\n",
      "[300]\teval-rmse:0.280630\ttrain-rmse:0.256305\n",
      "[301]\teval-rmse:0.280580\ttrain-rmse:0.256188\n",
      "[302]\teval-rmse:0.280526\ttrain-rmse:0.256067\n",
      "[303]\teval-rmse:0.280474\ttrain-rmse:0.255943\n",
      "[304]\teval-rmse:0.280421\ttrain-rmse:0.255804\n",
      "[305]\teval-rmse:0.280352\ttrain-rmse:0.255666\n",
      "[306]\teval-rmse:0.280300\ttrain-rmse:0.255545\n",
      "[307]\teval-rmse:0.280244\ttrain-rmse:0.255424\n",
      "[308]\teval-rmse:0.280183\ttrain-rmse:0.255299\n",
      "[309]\teval-rmse:0.280138\ttrain-rmse:0.255182\n",
      "[310]\teval-rmse:0.280090\ttrain-rmse:0.255055\n",
      "[311]\teval-rmse:0.280041\ttrain-rmse:0.254937\n",
      "[312]\teval-rmse:0.279997\ttrain-rmse:0.254816\n",
      "[313]\teval-rmse:0.279946\ttrain-rmse:0.254696\n",
      "[314]\teval-rmse:0.279893\ttrain-rmse:0.254573\n",
      "[315]\teval-rmse:0.279840\ttrain-rmse:0.254453\n",
      "[316]\teval-rmse:0.279787\ttrain-rmse:0.254331\n",
      "[317]\teval-rmse:0.279735\ttrain-rmse:0.254218\n",
      "[318]\teval-rmse:0.279689\ttrain-rmse:0.254105\n",
      "[319]\teval-rmse:0.279648\ttrain-rmse:0.254004\n",
      "[320]\teval-rmse:0.279601\ttrain-rmse:0.253893\n",
      "[321]\teval-rmse:0.279547\ttrain-rmse:0.253777\n",
      "[322]\teval-rmse:0.279494\ttrain-rmse:0.253655\n",
      "[323]\teval-rmse:0.279445\ttrain-rmse:0.253548\n",
      "[324]\teval-rmse:0.279395\ttrain-rmse:0.253422\n",
      "[325]\teval-rmse:0.279350\ttrain-rmse:0.253314\n",
      "[326]\teval-rmse:0.279308\ttrain-rmse:0.253204\n",
      "[327]\teval-rmse:0.279256\ttrain-rmse:0.253092\n",
      "[328]\teval-rmse:0.279208\ttrain-rmse:0.252975\n",
      "[329]\teval-rmse:0.279161\ttrain-rmse:0.252859\n",
      "[330]\teval-rmse:0.279112\ttrain-rmse:0.252741\n",
      "[331]\teval-rmse:0.279058\ttrain-rmse:0.252624\n",
      "[332]\teval-rmse:0.279016\ttrain-rmse:0.252521\n",
      "[333]\teval-rmse:0.278981\ttrain-rmse:0.252417\n",
      "[334]\teval-rmse:0.278937\ttrain-rmse:0.252314\n",
      "[335]\teval-rmse:0.278895\ttrain-rmse:0.252201\n",
      "[336]\teval-rmse:0.278856\ttrain-rmse:0.252088\n",
      "[337]\teval-rmse:0.278816\ttrain-rmse:0.251981\n",
      "[338]\teval-rmse:0.278774\ttrain-rmse:0.251871\n",
      "[339]\teval-rmse:0.278730\ttrain-rmse:0.251752\n",
      "[340]\teval-rmse:0.278687\ttrain-rmse:0.251631\n",
      "[341]\teval-rmse:0.278636\ttrain-rmse:0.251524\n",
      "[342]\teval-rmse:0.278584\ttrain-rmse:0.251419\n",
      "[343]\teval-rmse:0.278539\ttrain-rmse:0.251306\n",
      "[344]\teval-rmse:0.278497\ttrain-rmse:0.251211\n",
      "[345]\teval-rmse:0.278459\ttrain-rmse:0.251090\n",
      "[346]\teval-rmse:0.278416\ttrain-rmse:0.250981\n",
      "[347]\teval-rmse:0.278375\ttrain-rmse:0.250868\n",
      "[348]\teval-rmse:0.278336\ttrain-rmse:0.250759\n",
      "[349]\teval-rmse:0.278300\ttrain-rmse:0.250665\n",
      "[350]\teval-rmse:0.278258\ttrain-rmse:0.250556\n",
      "[351]\teval-rmse:0.278218\ttrain-rmse:0.250449\n",
      "[352]\teval-rmse:0.278182\ttrain-rmse:0.250347\n",
      "[353]\teval-rmse:0.278142\ttrain-rmse:0.250238\n",
      "[354]\teval-rmse:0.278102\ttrain-rmse:0.250146\n",
      "[355]\teval-rmse:0.278063\ttrain-rmse:0.250035\n",
      "[356]\teval-rmse:0.278025\ttrain-rmse:0.249930\n",
      "[357]\teval-rmse:0.277982\ttrain-rmse:0.249835\n",
      "[358]\teval-rmse:0.277940\ttrain-rmse:0.249714\n",
      "[359]\teval-rmse:0.277893\ttrain-rmse:0.249600\n",
      "[360]\teval-rmse:0.277857\ttrain-rmse:0.249488\n",
      "[361]\teval-rmse:0.277818\ttrain-rmse:0.249377\n",
      "[362]\teval-rmse:0.277776\ttrain-rmse:0.249269\n",
      "[363]\teval-rmse:0.277742\ttrain-rmse:0.249144\n",
      "[364]\teval-rmse:0.277701\ttrain-rmse:0.249032\n",
      "[365]\teval-rmse:0.277660\ttrain-rmse:0.248930\n",
      "[366]\teval-rmse:0.277625\ttrain-rmse:0.248826\n",
      "[367]\teval-rmse:0.277577\ttrain-rmse:0.248714\n",
      "[368]\teval-rmse:0.277540\ttrain-rmse:0.248609\n"
     ]
    },
    {
     "name": "stderr",
     "output_type": "stream",
     "text": [
      "[369]\teval-rmse:0.277500\ttrain-rmse:0.248493\n",
      "[370]\teval-rmse:0.277455\ttrain-rmse:0.248379\n",
      "[371]\teval-rmse:0.277412\ttrain-rmse:0.248273\n",
      "[372]\teval-rmse:0.277375\ttrain-rmse:0.248163\n",
      "[373]\teval-rmse:0.277330\ttrain-rmse:0.248064\n",
      "[374]\teval-rmse:0.277293\ttrain-rmse:0.247966\n",
      "[375]\teval-rmse:0.277255\ttrain-rmse:0.247847\n",
      "[376]\teval-rmse:0.277219\ttrain-rmse:0.247748\n",
      "[377]\teval-rmse:0.277177\ttrain-rmse:0.247632\n",
      "[378]\teval-rmse:0.277146\ttrain-rmse:0.247539\n",
      "[379]\teval-rmse:0.277108\ttrain-rmse:0.247435\n",
      "[380]\teval-rmse:0.277074\ttrain-rmse:0.247332\n",
      "[381]\teval-rmse:0.277042\ttrain-rmse:0.247231\n",
      "[382]\teval-rmse:0.276994\ttrain-rmse:0.247126\n",
      "[383]\teval-rmse:0.276956\ttrain-rmse:0.247014\n",
      "[384]\teval-rmse:0.276913\ttrain-rmse:0.246906\n",
      "[385]\teval-rmse:0.276887\ttrain-rmse:0.246816\n",
      "[386]\teval-rmse:0.276857\ttrain-rmse:0.246713\n",
      "[387]\teval-rmse:0.276824\ttrain-rmse:0.246615\n",
      "[388]\teval-rmse:0.276786\ttrain-rmse:0.246512\n",
      "[389]\teval-rmse:0.276756\ttrain-rmse:0.246415\n",
      "[390]\teval-rmse:0.276722\ttrain-rmse:0.246325\n",
      "[391]\teval-rmse:0.276688\ttrain-rmse:0.246228\n",
      "[392]\teval-rmse:0.276651\ttrain-rmse:0.246116\n",
      "[393]\teval-rmse:0.276623\ttrain-rmse:0.246017\n",
      "[394]\teval-rmse:0.276585\ttrain-rmse:0.245920\n",
      "[395]\teval-rmse:0.276543\ttrain-rmse:0.245807\n",
      "[396]\teval-rmse:0.276509\ttrain-rmse:0.245707\n",
      "[397]\teval-rmse:0.276477\ttrain-rmse:0.245604\n",
      "[398]\teval-rmse:0.276444\ttrain-rmse:0.245492\n",
      "[399]\teval-rmse:0.276412\ttrain-rmse:0.245405\n",
      "[400]\teval-rmse:0.276375\ttrain-rmse:0.245298\n",
      "[401]\teval-rmse:0.276340\ttrain-rmse:0.245200\n",
      "[402]\teval-rmse:0.276308\ttrain-rmse:0.245114\n",
      "[403]\teval-rmse:0.276277\ttrain-rmse:0.245008\n",
      "[404]\teval-rmse:0.276247\ttrain-rmse:0.244909\n",
      "[405]\teval-rmse:0.276210\ttrain-rmse:0.244813\n",
      "[406]\teval-rmse:0.276174\ttrain-rmse:0.244719\n",
      "[407]\teval-rmse:0.276132\ttrain-rmse:0.244620\n",
      "[408]\teval-rmse:0.276104\ttrain-rmse:0.244525\n",
      "[409]\teval-rmse:0.276076\ttrain-rmse:0.244430\n",
      "[410]\teval-rmse:0.276041\ttrain-rmse:0.244335\n",
      "[411]\teval-rmse:0.276012\ttrain-rmse:0.244248\n",
      "[412]\teval-rmse:0.275981\ttrain-rmse:0.244153\n",
      "[413]\teval-rmse:0.275941\ttrain-rmse:0.244052\n",
      "[414]\teval-rmse:0.275907\ttrain-rmse:0.243951\n",
      "[415]\teval-rmse:0.275876\ttrain-rmse:0.243864\n",
      "[416]\teval-rmse:0.275844\ttrain-rmse:0.243760\n",
      "[417]\teval-rmse:0.275805\ttrain-rmse:0.243663\n",
      "[418]\teval-rmse:0.275773\ttrain-rmse:0.243573\n",
      "[419]\teval-rmse:0.275734\ttrain-rmse:0.243474\n",
      "[420]\teval-rmse:0.275698\ttrain-rmse:0.243367\n",
      "[421]\teval-rmse:0.275667\ttrain-rmse:0.243273\n",
      "[422]\teval-rmse:0.275636\ttrain-rmse:0.243179\n",
      "[423]\teval-rmse:0.275605\ttrain-rmse:0.243096\n",
      "[424]\teval-rmse:0.275569\ttrain-rmse:0.242997\n",
      "[425]\teval-rmse:0.275534\ttrain-rmse:0.242909\n",
      "[426]\teval-rmse:0.275498\ttrain-rmse:0.242808\n",
      "[427]\teval-rmse:0.275471\ttrain-rmse:0.242706\n",
      "[428]\teval-rmse:0.275443\ttrain-rmse:0.242618\n",
      "[429]\teval-rmse:0.275400\ttrain-rmse:0.242533\n",
      "[430]\teval-rmse:0.275361\ttrain-rmse:0.242431\n",
      "[431]\teval-rmse:0.275332\ttrain-rmse:0.242337\n",
      "[432]\teval-rmse:0.275307\ttrain-rmse:0.242259\n",
      "[433]\teval-rmse:0.275277\ttrain-rmse:0.242162\n",
      "[434]\teval-rmse:0.275253\ttrain-rmse:0.242069\n",
      "[435]\teval-rmse:0.275229\ttrain-rmse:0.241984\n",
      "[436]\teval-rmse:0.275201\ttrain-rmse:0.241900\n",
      "[437]\teval-rmse:0.275163\ttrain-rmse:0.241792\n",
      "[438]\teval-rmse:0.275131\ttrain-rmse:0.241698\n",
      "[439]\teval-rmse:0.275097\ttrain-rmse:0.241602\n",
      "[440]\teval-rmse:0.275067\ttrain-rmse:0.241503\n",
      "[441]\teval-rmse:0.275040\ttrain-rmse:0.241398\n",
      "[442]\teval-rmse:0.275006\ttrain-rmse:0.241290\n",
      "[443]\teval-rmse:0.274983\ttrain-rmse:0.241204\n",
      "[444]\teval-rmse:0.274952\ttrain-rmse:0.241111\n",
      "[445]\teval-rmse:0.274927\ttrain-rmse:0.241007\n",
      "[446]\teval-rmse:0.274897\ttrain-rmse:0.240932\n",
      "[447]\teval-rmse:0.274869\ttrain-rmse:0.240838\n",
      "[448]\teval-rmse:0.274840\ttrain-rmse:0.240753\n",
      "[449]\teval-rmse:0.274800\ttrain-rmse:0.240659\n",
      "[450]\teval-rmse:0.274769\ttrain-rmse:0.240571\n",
      "[451]\teval-rmse:0.274739\ttrain-rmse:0.240483\n",
      "[452]\teval-rmse:0.274708\ttrain-rmse:0.240391\n",
      "[453]\teval-rmse:0.274684\ttrain-rmse:0.240297\n",
      "[454]\teval-rmse:0.274652\ttrain-rmse:0.240216\n",
      "[455]\teval-rmse:0.274622\ttrain-rmse:0.240121\n",
      "[456]\teval-rmse:0.274590\ttrain-rmse:0.240027\n",
      "[457]\teval-rmse:0.274564\ttrain-rmse:0.239933\n",
      "[458]\teval-rmse:0.274537\ttrain-rmse:0.239849\n",
      "[459]\teval-rmse:0.274506\ttrain-rmse:0.239746\n",
      "[460]\teval-rmse:0.274483\ttrain-rmse:0.239658\n",
      "[461]\teval-rmse:0.274452\ttrain-rmse:0.239557\n",
      "[462]\teval-rmse:0.274423\ttrain-rmse:0.239471\n",
      "[463]\teval-rmse:0.274386\ttrain-rmse:0.239383\n",
      "[464]\teval-rmse:0.274361\ttrain-rmse:0.239302\n",
      "[465]\teval-rmse:0.274332\ttrain-rmse:0.239222\n",
      "[466]\teval-rmse:0.274295\ttrain-rmse:0.239126\n",
      "[467]\teval-rmse:0.274267\ttrain-rmse:0.239032\n",
      "[468]\teval-rmse:0.274240\ttrain-rmse:0.238946\n",
      "[469]\teval-rmse:0.274213\ttrain-rmse:0.238855\n",
      "[470]\teval-rmse:0.274182\ttrain-rmse:0.238754\n",
      "[471]\teval-rmse:0.274159\ttrain-rmse:0.238656\n",
      "[472]\teval-rmse:0.274130\ttrain-rmse:0.238557\n",
      "[473]\teval-rmse:0.274102\ttrain-rmse:0.238466\n",
      "[474]\teval-rmse:0.274077\ttrain-rmse:0.238374\n",
      "[475]\teval-rmse:0.274052\ttrain-rmse:0.238291\n",
      "[476]\teval-rmse:0.274026\ttrain-rmse:0.238198\n",
      "[477]\teval-rmse:0.274000\ttrain-rmse:0.238111\n",
      "[478]\teval-rmse:0.273972\ttrain-rmse:0.238024\n",
      "[479]\teval-rmse:0.273941\ttrain-rmse:0.237928\n",
      "[480]\teval-rmse:0.273911\ttrain-rmse:0.237839\n",
      "[481]\teval-rmse:0.273881\ttrain-rmse:0.237745\n",
      "[482]\teval-rmse:0.273854\ttrain-rmse:0.237665\n",
      "[483]\teval-rmse:0.273827\ttrain-rmse:0.237587\n",
      "[484]\teval-rmse:0.273797\ttrain-rmse:0.237490\n",
      "[485]\teval-rmse:0.273763\ttrain-rmse:0.237398\n",
      "[486]\teval-rmse:0.273731\ttrain-rmse:0.237317\n",
      "[487]\teval-rmse:0.273708\ttrain-rmse:0.237229\n",
      "[488]\teval-rmse:0.273683\ttrain-rmse:0.237136\n",
      "[489]\teval-rmse:0.273653\ttrain-rmse:0.237042\n",
      "[490]\teval-rmse:0.273627\ttrain-rmse:0.236951\n",
      "[491]\teval-rmse:0.273600\ttrain-rmse:0.236866\n",
      "[492]\teval-rmse:0.273572\ttrain-rmse:0.236780\n",
      "[493]\teval-rmse:0.273544\ttrain-rmse:0.236682\n",
      "[494]\teval-rmse:0.273519\ttrain-rmse:0.236593\n",
      "[495]\teval-rmse:0.273497\ttrain-rmse:0.236507\n",
      "[496]\teval-rmse:0.273470\ttrain-rmse:0.236422\n",
      "[497]\teval-rmse:0.273441\ttrain-rmse:0.236329\n",
      "[498]\teval-rmse:0.273416\ttrain-rmse:0.236246\n",
      "[499]\teval-rmse:0.273390\ttrain-rmse:0.236160\n",
      "[500]\teval-rmse:0.273362\ttrain-rmse:0.236061\n"
     ]
    },
    {
     "name": "stdout",
     "output_type": "stream",
     "text": [
      "374.470074 seconds (1.04 M allocations: 53.028 MiB, 0.01% gc time)\n"
     ]
    },
    {
     "data": {
      "text/plain": [
       "Booster(Ptr{Nothing} @0x0000000044d9c730)"
      ]
     },
     "execution_count": 27,
     "metadata": {},
     "output_type": "execute_result"
    }
   ],
   "source": [
    "@time XGBoostModel = xgboost(dbuild, num_round, param = param ,watchlist = watchlist)"
   ]
  },
  {
   "cell_type": "code",
   "execution_count": 28,
   "metadata": {},
   "outputs": [
    {
     "data": {
      "text/plain": [
       "\"    Predict on test set, we are not interested in predictions here\\n\""
      ]
     },
     "execution_count": 28,
     "metadata": {},
     "output_type": "execute_result"
    }
   ],
   "source": [
    "\"\"\"\n",
    "    Predict on test set, we are not interested in predictions here\n",
    "\"\"\""
   ]
  },
  {
   "cell_type": "code",
   "execution_count": 29,
   "metadata": {},
   "outputs": [
    {
     "data": {
      "text/plain": [
       "200000-element Array{Float32,1}:\n",
       " 0.15282318 \n",
       " 0.18356389 \n",
       " 0.18178278 \n",
       " 0.08526245 \n",
       " 0.06604716 \n",
       " 0.008706868\n",
       " 0.061765373\n",
       " 0.14719394 \n",
       " 0.015547961\n",
       " 0.033531666\n",
       " 0.097195804\n",
       " 0.044894516\n",
       " 0.09705293 \n",
       " ⋮          \n",
       " 0.05619362 \n",
       " 0.115531296\n",
       " 0.008453846\n",
       " 0.0078713  \n",
       " 0.16818717 \n",
       " 0.024851918\n",
       " 0.12675422 \n",
       " 0.08568469 \n",
       " 0.021657526\n",
       " 0.023792118\n",
       " 0.11855671 \n",
       " 0.07834971 "
      ]
     },
     "execution_count": 29,
     "metadata": {},
     "output_type": "execute_result"
    }
   ],
   "source": [
    "preds = predict(XGBoostModel, dtest)"
   ]
  },
  {
   "cell_type": "code",
   "execution_count": 30,
   "metadata": {},
   "outputs": [
    {
     "data": {
      "text/plain": [
       "\"    Logging end date time\\n\""
      ]
     },
     "execution_count": 30,
     "metadata": {},
     "output_type": "execute_result"
    }
   ],
   "source": [
    "\"\"\"\n",
    "    Logging end date time\n",
    "\"\"\""
   ]
  },
  {
   "cell_type": "code",
   "execution_count": 31,
   "metadata": {},
   "outputs": [
    {
     "data": {
      "text/plain": [
       "22:08:08.857"
      ]
     },
     "execution_count": 31,
     "metadata": {},
     "output_type": "execute_result"
    }
   ],
   "source": [
    "EndDateTime = Dates.Time(Dates.now())"
   ]
  },
  {
   "cell_type": "code",
   "execution_count": 32,
   "metadata": {},
   "outputs": [
    {
     "data": {
      "text/plain": [
       "542974000000 nanoseconds"
      ]
     },
     "execution_count": 32,
     "metadata": {},
     "output_type": "execute_result"
    }
   ],
   "source": [
    "period = EndDateTime - StartDateTime"
   ]
  },
  {
   "cell_type": "code",
   "execution_count": 33,
   "metadata": {},
   "outputs": [
    {
     "data": {
      "text/plain": [
       "\"    Total run time\\n\""
      ]
     },
     "execution_count": 33,
     "metadata": {},
     "output_type": "execute_result"
    }
   ],
   "source": [
    "\"\"\"\n",
    "    Total run time\n",
    "\"\"\""
   ]
  },
  {
   "cell_type": "code",
   "execution_count": 34,
   "metadata": {},
   "outputs": [
    {
     "data": {
      "text/plain": [
       "9 minutes"
      ]
     },
     "execution_count": 34,
     "metadata": {},
     "output_type": "execute_result"
    }
   ],
   "source": [
    "\n",
    "round(convert(Dates.Millisecond, period), Minute)"
   ]
  }
 ],
 "metadata": {
  "kernelspec": {
   "display_name": "Julia 1.0.5",
   "language": "julia",
   "name": "julia-1.0"
  },
  "language_info": {
   "file_extension": ".jl",
   "mimetype": "application/julia",
   "name": "julia",
   "version": "1.0.5"
  }
 },
 "nbformat": 4,
 "nbformat_minor": 2
}
